{
 "cells": [
  {
   "cell_type": "markdown",
   "id": "a6f9f5cd",
   "metadata": {},
   "source": [
    "# Instalacion de dependencias"
   ]
  },
  {
   "cell_type": "code",
   "execution_count": 2,
   "id": "bb7bc868",
   "metadata": {},
   "outputs": [],
   "source": [
    "#pip install spacy"
   ]
  },
  {
   "cell_type": "code",
   "execution_count": 3,
   "id": "ab594585",
   "metadata": {},
   "outputs": [],
   "source": [
    "#pip install happytransformer"
   ]
  },
  {
   "cell_type": "code",
   "execution_count": 4,
   "id": "558b3afe",
   "metadata": {},
   "outputs": [],
   "source": [
    "#pip install nltk"
   ]
  },
  {
   "cell_type": "code",
   "execution_count": 5,
   "id": "96b6dc1e",
   "metadata": {},
   "outputs": [],
   "source": [
    "#!python -m spacy download en_core_web_sm"
   ]
  },
  {
   "cell_type": "code",
   "execution_count": 6,
   "id": "c86766f8",
   "metadata": {},
   "outputs": [],
   "source": [
    "#pip install wordcloud"
   ]
  },
  {
   "cell_type": "code",
   "execution_count": 7,
   "id": "2b5da996",
   "metadata": {},
   "outputs": [],
   "source": [
    "#nltk.download('wordnet')"
   ]
  },
  {
   "cell_type": "markdown",
   "id": "abeb2f3e",
   "metadata": {},
   "source": [
    "https://www.kaggle.com/datasets/nidhiy07/student-depression-text"
   ]
  },
  {
   "cell_type": "markdown",
   "id": "126ed65e",
   "metadata": {},
   "source": [
    "https://www.kaggle.com/code/nidhiy07/forecast-depression-anxiety-text"
   ]
  },
  {
   "cell_type": "markdown",
   "id": "a3df503b-a4ee-4177-baca-51e2c78b922c",
   "metadata": {},
   "source": [
    "1) Este conjunto de datos contiene información en formato Excel que comprende unos 7489 datos de redes sociales, comentarios de Facebook, etc.\n",
    "2) Todas las personas seleccionadas para la anotación de datos dominan muy bien el inglés y son estudiantes, con edades comprendidas entre los 15 y los 17 años.\n",
    "3)Hay 5 columnas en este conjunto de datos. Texto, etiquetas, edad, categoría de edad y sexo.\n",
    "4) En las columnas de texto hay texto normal y de ansiedad/depresión, y la columna de etiquetas indica si el texto correspondiente denota ansiedad o depresión.\n",
    "1 ANSIEDAD\n",
    "0 NEUTRO"
   ]
  },
  {
   "cell_type": "code",
   "execution_count": 1,
   "id": "3ea762b0",
   "metadata": {},
   "outputs": [],
   "source": [
    "import pandas as pd\n",
    "import numpy as np\n",
    "import torch\n",
    "from torch import nn, optim #Pytorch\n",
    "from datasets import load_dataset"
   ]
  },
  {
   "cell_type": "code",
   "execution_count": 2,
   "id": "b44ea733",
   "metadata": {},
   "outputs": [
    {
     "name": "stdout",
     "output_type": "stream",
     "text": [
      "cpu\n"
     ]
    }
   ],
   "source": [
    "RANDOM_SEED = 42\n",
    "BATCH_SIZE = 16\n",
    "np.random.seed(RANDOM_SEED)\n",
    "torch.manual_seed(RANDOM_SEED)\n",
    "device = torch.device(\"cuda:0\" if torch.cuda.is_available() else \"cpu\")\n",
    "print(device)"
   ]
  },
  {
   "cell_type": "markdown",
   "id": "07ad0cd9",
   "metadata": {},
   "source": [
    "## Cargar datos"
   ]
  },
  {
   "cell_type": "code",
   "execution_count": 3,
   "id": "5f92563e",
   "metadata": {
    "scrolled": true
   },
   "outputs": [
    {
     "data": {
      "text/html": [
       "<div>\n",
       "<style scoped>\n",
       "    .dataframe tbody tr th:only-of-type {\n",
       "        vertical-align: middle;\n",
       "    }\n",
       "\n",
       "    .dataframe tbody tr th {\n",
       "        vertical-align: top;\n",
       "    }\n",
       "\n",
       "    .dataframe thead th {\n",
       "        text-align: right;\n",
       "    }\n",
       "</style>\n",
       "<table border=\"1\" class=\"dataframe\">\n",
       "  <thead>\n",
       "    <tr style=\"text-align: right;\">\n",
       "      <th></th>\n",
       "      <th>text</th>\n",
       "      <th>label</th>\n",
       "      <th>Age</th>\n",
       "      <th>Gender</th>\n",
       "      <th>Age Category</th>\n",
       "    </tr>\n",
       "  </thead>\n",
       "  <tbody>\n",
       "    <tr>\n",
       "      <th>0</th>\n",
       "      <td>let Gather For Party</td>\n",
       "      <td>0.0</td>\n",
       "      <td>16.0</td>\n",
       "      <td>Male</td>\n",
       "      <td>Teen Age</td>\n",
       "    </tr>\n",
       "    <tr>\n",
       "      <th>1</th>\n",
       "      <td>I hate being alive when I feel so dead inside.</td>\n",
       "      <td>1.0</td>\n",
       "      <td>17.0</td>\n",
       "      <td>Female</td>\n",
       "      <td>Teen Age</td>\n",
       "    </tr>\n",
       "    <tr>\n",
       "      <th>2</th>\n",
       "      <td>Exam are Comimg I  m already  Feeling Very Dep...</td>\n",
       "      <td>1.0</td>\n",
       "      <td>16.0</td>\n",
       "      <td>Male</td>\n",
       "      <td>Teen Age</td>\n",
       "    </tr>\n",
       "    <tr>\n",
       "      <th>3</th>\n",
       "      <td>Nice picture</td>\n",
       "      <td>0.0</td>\n",
       "      <td>16.0</td>\n",
       "      <td>Male</td>\n",
       "      <td>Teen Age</td>\n",
       "    </tr>\n",
       "    <tr>\n",
       "      <th>4</th>\n",
       "      <td>Feeling worried, even though you actually have...</td>\n",
       "      <td>1.0</td>\n",
       "      <td>16.0</td>\n",
       "      <td>Male</td>\n",
       "      <td>Teen Age</td>\n",
       "    </tr>\n",
       "    <tr>\n",
       "      <th>5</th>\n",
       "      <td>There are people who died, their friends didn'...</td>\n",
       "      <td>0.0</td>\n",
       "      <td>16.0</td>\n",
       "      <td>Male</td>\n",
       "      <td>Teen Age</td>\n",
       "    </tr>\n",
       "    <tr>\n",
       "      <th>6</th>\n",
       "      <td>keep it up hahaha</td>\n",
       "      <td>0.0</td>\n",
       "      <td>16.0</td>\n",
       "      <td>Male</td>\n",
       "      <td>Teen Age</td>\n",
       "    </tr>\n",
       "    <tr>\n",
       "      <th>7</th>\n",
       "      <td>The match cycle I had.Buy-brought-out-lost.</td>\n",
       "      <td>0.0</td>\n",
       "      <td>16.0</td>\n",
       "      <td>Male</td>\n",
       "      <td>Teen Age</td>\n",
       "    </tr>\n",
       "    <tr>\n",
       "      <th>8</th>\n",
       "      <td>nctb! jewel case dream, which doesn't have a p...</td>\n",
       "      <td>0.0</td>\n",
       "      <td>16.0</td>\n",
       "      <td>Male</td>\n",
       "      <td>Teen Age</td>\n",
       "    </tr>\n",
       "    <tr>\n",
       "      <th>9</th>\n",
       "      <td>college but it's like not going to college, bu...</td>\n",
       "      <td>0.0</td>\n",
       "      <td>16.0</td>\n",
       "      <td>Male</td>\n",
       "      <td>Teen Age</td>\n",
       "    </tr>\n",
       "  </tbody>\n",
       "</table>\n",
       "</div>"
      ],
      "text/plain": [
       "                                                text  label   Age  Gender  \\\n",
       "0                               let Gather For Party    0.0  16.0    Male   \n",
       "1    I hate being alive when I feel so dead inside.     1.0  17.0  Female   \n",
       "2  Exam are Comimg I  m already  Feeling Very Dep...    1.0  16.0    Male   \n",
       "3                                       Nice picture    0.0  16.0    Male   \n",
       "4  Feeling worried, even though you actually have...    1.0  16.0    Male   \n",
       "5  There are people who died, their friends didn'...    0.0  16.0    Male   \n",
       "6                                  keep it up hahaha    0.0  16.0    Male   \n",
       "7        The match cycle I had.Buy-brought-out-lost.    0.0  16.0    Male   \n",
       "8  nctb! jewel case dream, which doesn't have a p...    0.0  16.0    Male   \n",
       "9  college but it's like not going to college, bu...    0.0  16.0    Male   \n",
       "\n",
       "  Age Category  \n",
       "0     Teen Age  \n",
       "1     Teen Age  \n",
       "2     Teen Age  \n",
       "3     Teen Age  \n",
       "4     Teen Age  \n",
       "5     Teen Age  \n",
       "6     Teen Age  \n",
       "7     Teen Age  \n",
       "8     Teen Age  \n",
       "9     Teen Age  "
      ]
     },
     "execution_count": 3,
     "metadata": {},
     "output_type": "execute_result"
    }
   ],
   "source": [
    "dir_pandas = 'C:/Users/anabe/Documents/PRUEBAS/GPT/corpus/{}'\n",
    "df=pd.read_excel(dir_pandas.format('depresion.xlsx'))\n",
    "#Solo para ver los primeros\n",
    "df.head(10)"
   ]
  },
  {
   "cell_type": "code",
   "execution_count": 4,
   "id": "f9493de7",
   "metadata": {},
   "outputs": [
    {
     "name": "stdout",
     "output_type": "stream",
     "text": [
      "<class 'pandas.core.frame.DataFrame'>\n",
      "RangeIndex: 7489 entries, 0 to 7488\n",
      "Data columns (total 5 columns):\n",
      " #   Column        Non-Null Count  Dtype  \n",
      "---  ------        --------------  -----  \n",
      " 0   text          7476 non-null   object \n",
      " 1   label         7486 non-null   float64\n",
      " 2   Age           7486 non-null   float64\n",
      " 3   Gender        7486 non-null   object \n",
      " 4   Age Category  7486 non-null   object \n",
      "dtypes: float64(2), object(3)\n",
      "memory usage: 292.7+ KB\n"
     ]
    }
   ],
   "source": [
    "df.info()"
   ]
  },
  {
   "cell_type": "code",
   "execution_count": 5,
   "id": "4597ce66",
   "metadata": {},
   "outputs": [
    {
     "data": {
      "text/plain": [
       "text            13\n",
       "label            3\n",
       "Age              3\n",
       "Gender           3\n",
       "Age Category     3\n",
       "dtype: int64"
      ]
     },
     "execution_count": 5,
     "metadata": {},
     "output_type": "execute_result"
    }
   ],
   "source": [
    "# Checking null values\n",
    "df.isnull().sum()"
   ]
  },
  {
   "cell_type": "code",
   "execution_count": 6,
   "id": "35b4529a",
   "metadata": {},
   "outputs": [
    {
     "data": {
      "text/html": [
       "<div>\n",
       "<style scoped>\n",
       "    .dataframe tbody tr th:only-of-type {\n",
       "        vertical-align: middle;\n",
       "    }\n",
       "\n",
       "    .dataframe tbody tr th {\n",
       "        vertical-align: top;\n",
       "    }\n",
       "\n",
       "    .dataframe thead th {\n",
       "        text-align: right;\n",
       "    }\n",
       "</style>\n",
       "<table border=\"1\" class=\"dataframe\">\n",
       "  <thead>\n",
       "    <tr style=\"text-align: right;\">\n",
       "      <th></th>\n",
       "      <th>label</th>\n",
       "      <th>Age</th>\n",
       "    </tr>\n",
       "  </thead>\n",
       "  <tbody>\n",
       "    <tr>\n",
       "      <th>count</th>\n",
       "      <td>7486.000000</td>\n",
       "      <td>7486.000000</td>\n",
       "    </tr>\n",
       "    <tr>\n",
       "      <th>mean</th>\n",
       "      <td>0.163906</td>\n",
       "      <td>15.379108</td>\n",
       "    </tr>\n",
       "    <tr>\n",
       "      <th>std</th>\n",
       "      <td>0.370215</td>\n",
       "      <td>1.058104</td>\n",
       "    </tr>\n",
       "    <tr>\n",
       "      <th>min</th>\n",
       "      <td>0.000000</td>\n",
       "      <td>13.000000</td>\n",
       "    </tr>\n",
       "    <tr>\n",
       "      <th>25%</th>\n",
       "      <td>0.000000</td>\n",
       "      <td>14.000000</td>\n",
       "    </tr>\n",
       "    <tr>\n",
       "      <th>50%</th>\n",
       "      <td>0.000000</td>\n",
       "      <td>15.000000</td>\n",
       "    </tr>\n",
       "    <tr>\n",
       "      <th>75%</th>\n",
       "      <td>0.000000</td>\n",
       "      <td>16.000000</td>\n",
       "    </tr>\n",
       "    <tr>\n",
       "      <th>max</th>\n",
       "      <td>1.000000</td>\n",
       "      <td>17.000000</td>\n",
       "    </tr>\n",
       "  </tbody>\n",
       "</table>\n",
       "</div>"
      ],
      "text/plain": [
       "             label          Age\n",
       "count  7486.000000  7486.000000\n",
       "mean      0.163906    15.379108\n",
       "std       0.370215     1.058104\n",
       "min       0.000000    13.000000\n",
       "25%       0.000000    14.000000\n",
       "50%       0.000000    15.000000\n",
       "75%       0.000000    16.000000\n",
       "max       1.000000    17.000000"
      ]
     },
     "execution_count": 6,
     "metadata": {},
     "output_type": "execute_result"
    }
   ],
   "source": [
    "df.describe()"
   ]
  },
  {
   "cell_type": "code",
   "execution_count": 7,
   "id": "54d11bd3",
   "metadata": {},
   "outputs": [
    {
     "name": "stdout",
     "output_type": "stream",
     "text": [
      "There are 39 duplicate entries among 7489 entries in  dataset.\n"
     ]
    }
   ],
   "source": [
    "dup_df = df[df.duplicated()].shape[0]\n",
    "print(f\"There are {dup_df} duplicate entries among {df.shape[0]} entries in  dataset.\")"
   ]
  },
  {
   "cell_type": "code",
   "execution_count": 8,
   "id": "33e43c06",
   "metadata": {},
   "outputs": [],
   "source": [
    "df = df.sample(frac = 1)"
   ]
  },
  {
   "cell_type": "code",
   "execution_count": 9,
   "id": "3e0b5115",
   "metadata": {},
   "outputs": [
    {
     "data": {
      "text/html": [
       "<style type=\"text/css\">\n",
       "#T_772d2_row0_col0, #T_772d2_row0_col1 {\n",
       "  background-color: #F3FFFF;\n",
       "  color: black;\n",
       "  border: 1.5px  solid black;\n",
       "}\n",
       "</style>\n",
       "<table id=\"T_772d2\">\n",
       "  <thead>\n",
       "    <tr>\n",
       "      <th class=\"index_name level0\" >label</th>\n",
       "      <th id=\"T_772d2_level0_col0\" class=\"col_heading level0 col0\" >0.000000</th>\n",
       "      <th id=\"T_772d2_level0_col1\" class=\"col_heading level0 col1\" >1.000000</th>\n",
       "    </tr>\n",
       "  </thead>\n",
       "  <tbody>\n",
       "    <tr>\n",
       "      <th id=\"T_772d2_level0_row0\" class=\"row_heading level0 row0\" >count</th>\n",
       "      <td id=\"T_772d2_row0_col0\" class=\"data row0 col0\" >6259</td>\n",
       "      <td id=\"T_772d2_row0_col1\" class=\"data row0 col1\" >1227</td>\n",
       "    </tr>\n",
       "  </tbody>\n",
       "</table>\n"
      ],
      "text/plain": [
       "<pandas.io.formats.style.Styler at 0x1edaddff050>"
      ]
     },
     "execution_count": 9,
     "metadata": {},
     "output_type": "execute_result"
    }
   ],
   "source": [
    "df['label'].value_counts().to_frame().T.style.set_properties(**{\"background-color\": \"#F3FFFF\",\"color\":\"black\",\"border\": \"1.5px  solid black\"})"
   ]
  },
  {
   "cell_type": "code",
   "execution_count": 10,
   "id": "53a80ea5",
   "metadata": {},
   "outputs": [
    {
     "data": {
      "text/html": [
       "<div>\n",
       "<style scoped>\n",
       "    .dataframe tbody tr th:only-of-type {\n",
       "        vertical-align: middle;\n",
       "    }\n",
       "\n",
       "    .dataframe tbody tr th {\n",
       "        vertical-align: top;\n",
       "    }\n",
       "\n",
       "    .dataframe thead th {\n",
       "        text-align: right;\n",
       "    }\n",
       "</style>\n",
       "<table border=\"1\" class=\"dataframe\">\n",
       "  <thead>\n",
       "    <tr style=\"text-align: right;\">\n",
       "      <th></th>\n",
       "      <th>text</th>\n",
       "      <th>label</th>\n",
       "      <th>Age</th>\n",
       "      <th>Gender</th>\n",
       "      <th>Age Category</th>\n",
       "    </tr>\n",
       "  </thead>\n",
       "  <tbody>\n",
       "    <tr>\n",
       "      <th>2827</th>\n",
       "      <td>It's okay, I also have no intention to be angr...</td>\n",
       "      <td>0.0</td>\n",
       "      <td>14.0</td>\n",
       "      <td>Male</td>\n",
       "      <td>Young Age</td>\n",
       "    </tr>\n",
       "    <tr>\n",
       "      <th>2858</th>\n",
       "      <td>COMO Q JYP RIPEO</td>\n",
       "      <td>0.0</td>\n",
       "      <td>14.0</td>\n",
       "      <td>Male</td>\n",
       "      <td>Young Age</td>\n",
       "    </tr>\n",
       "    <tr>\n",
       "      <th>2133</th>\n",
       "      <td>Pharmaceutical stocks are in ruins right now. ...</td>\n",
       "      <td>0.0</td>\n",
       "      <td>17.0</td>\n",
       "      <td>Male</td>\n",
       "      <td>Teen Age</td>\n",
       "    </tr>\n",
       "    <tr>\n",
       "      <th>4357</th>\n",
       "      <td>â€œSuicide it too hard to commitâ€Watch me. G...</td>\n",
       "      <td>1.0</td>\n",
       "      <td>16.0</td>\n",
       "      <td>Female</td>\n",
       "      <td>Teen Age</td>\n",
       "    </tr>\n",
       "    <tr>\n",
       "      <th>2908</th>\n",
       "      <td>It's not really nice to be ignored ðŸ˜©</td>\n",
       "      <td>0.0</td>\n",
       "      <td>14.0</td>\n",
       "      <td>Male</td>\n",
       "      <td>Young Age</td>\n",
       "    </tr>\n",
       "  </tbody>\n",
       "</table>\n",
       "</div>"
      ],
      "text/plain": [
       "                                                   text  label   Age  Gender  \\\n",
       "2827  It's okay, I also have no intention to be angr...    0.0  14.0    Male   \n",
       "2858                                   COMO Q JYP RIPEO    0.0  14.0    Male   \n",
       "2133  Pharmaceutical stocks are in ruins right now. ...    0.0  17.0    Male   \n",
       "4357  â€œSuicide it too hard to commitâ€Watch me. G...    1.0  16.0  Female   \n",
       "2908            It's not really nice to be ignored ðŸ˜©    0.0  14.0    Male   \n",
       "\n",
       "     Age Category  \n",
       "2827    Young Age  \n",
       "2858    Young Age  \n",
       "2133     Teen Age  \n",
       "4357     Teen Age  \n",
       "2908    Young Age  "
      ]
     },
     "execution_count": 10,
     "metadata": {},
     "output_type": "execute_result"
    }
   ],
   "source": [
    "df.head()"
   ]
  },
  {
   "cell_type": "code",
   "execution_count": 11,
   "id": "c6eca751",
   "metadata": {},
   "outputs": [
    {
     "data": {
      "text/plain": [
       "label\n",
       "0.0    6259\n",
       "1.0    1227\n",
       "Name: count, dtype: int64"
      ]
     },
     "execution_count": 11,
     "metadata": {},
     "output_type": "execute_result"
    }
   ],
   "source": [
    "df['label'].value_counts()"
   ]
  },
  {
   "cell_type": "code",
   "execution_count": 12,
   "id": "b68299c8",
   "metadata": {},
   "outputs": [
    {
     "data": {
      "text/html": [
       "<div>\n",
       "<style scoped>\n",
       "    .dataframe tbody tr th:only-of-type {\n",
       "        vertical-align: middle;\n",
       "    }\n",
       "\n",
       "    .dataframe tbody tr th {\n",
       "        vertical-align: top;\n",
       "    }\n",
       "\n",
       "    .dataframe thead th {\n",
       "        text-align: right;\n",
       "    }\n",
       "</style>\n",
       "<table border=\"1\" class=\"dataframe\">\n",
       "  <thead>\n",
       "    <tr style=\"text-align: right;\">\n",
       "      <th></th>\n",
       "      <th>text</th>\n",
       "      <th>label</th>\n",
       "    </tr>\n",
       "  </thead>\n",
       "  <tbody>\n",
       "    <tr>\n",
       "      <th>5839</th>\n",
       "      <td>qn es yuri</td>\n",
       "      <td>0.0</td>\n",
       "    </tr>\n",
       "    <tr>\n",
       "      <th>4953</th>\n",
       "      <td>In the previous project, my uname is different...</td>\n",
       "      <td>0.0</td>\n",
       "    </tr>\n",
       "    <tr>\n",
       "      <th>3581</th>\n",
       "      <td>I'm so nervous I swear, the views are getting ...</td>\n",
       "      <td>1.0</td>\n",
       "    </tr>\n",
       "  </tbody>\n",
       "</table>\n",
       "</div>"
      ],
      "text/plain": [
       "                                                   text  label\n",
       "5839                                         qn es yuri    0.0\n",
       "4953  In the previous project, my uname is different...    0.0\n",
       "3581  I'm so nervous I swear, the views are getting ...    1.0"
      ]
     },
     "execution_count": 12,
     "metadata": {},
     "output_type": "execute_result"
    }
   ],
   "source": [
    "not_used_cols = ['Age','Gender','Age Category']\n",
    "df1 = df.drop(not_used_cols,axis=1)\n",
    "df1.sample(3)"
   ]
  },
  {
   "cell_type": "code",
   "execution_count": 13,
   "id": "a5547105",
   "metadata": {},
   "outputs": [
    {
     "data": {
      "text/plain": [
       "array([ 0.,  1., nan])"
      ]
     },
     "execution_count": 13,
     "metadata": {},
     "output_type": "execute_result"
    }
   ],
   "source": [
    "df1['label'].unique()"
   ]
  },
  {
   "cell_type": "code",
   "execution_count": 14,
   "id": "a50af988",
   "metadata": {},
   "outputs": [
    {
     "name": "stdout",
     "output_type": "stream",
     "text": [
      "DataFrame after removing rows with NaN value in any column:\n",
      "                                                   text  label\n",
      "2827  It's okay, I also have no intention to be angr...    0.0\n",
      "2858                                   COMO Q JYP RIPEO    0.0\n",
      "2133  Pharmaceutical stocks are in ruins right now. ...    0.0\n",
      "4357  â€œSuicide it too hard to commitâ€Watch me. G...    1.0\n",
      "2908            It's not really nice to be ignored ðŸ˜©    0.0\n",
      "...                                                 ...    ...\n",
      "5191  Looking for mutualan with fellow nctzens, who ...    0.0\n",
      "5226                                 Ami ajke onk happy    0.0\n",
      "5390                              como que jyp mur10 ee    0.0\n",
      "860      Arya, if you play futsal, you don't use a goal    0.0\n",
      "7270             I feel excited . Gosh, a little tremor    0.0\n",
      "\n",
      "[7476 rows x 2 columns]\n"
     ]
    }
   ],
   "source": [
    "df1 = df1.dropna(axis=0)\n",
    "print(\"DataFrame after removing rows with NaN value in any column:\")\n",
    "print(df1)"
   ]
  },
  {
   "cell_type": "code",
   "execution_count": 15,
   "id": "7033fff8",
   "metadata": {},
   "outputs": [
    {
     "data": {
      "text/plain": [
       "(7476, 2)"
      ]
     },
     "execution_count": 15,
     "metadata": {},
     "output_type": "execute_result"
    }
   ],
   "source": [
    "df1.shape"
   ]
  },
  {
   "cell_type": "code",
   "execution_count": 16,
   "id": "55c819bf",
   "metadata": {},
   "outputs": [
    {
     "data": {
      "text/plain": [
       "array([0., 1.])"
      ]
     },
     "execution_count": 16,
     "metadata": {},
     "output_type": "execute_result"
    }
   ],
   "source": [
    "df1['label'].unique()"
   ]
  },
  {
   "cell_type": "code",
   "execution_count": 17,
   "id": "76a68380",
   "metadata": {},
   "outputs": [
    {
     "data": {
      "text/plain": [
       "text             object\n",
       "label           float64\n",
       "Age             float64\n",
       "Gender           object\n",
       "Age Category     object\n",
       "dtype: object"
      ]
     },
     "execution_count": 17,
     "metadata": {},
     "output_type": "execute_result"
    }
   ],
   "source": [
    "df.dtypes"
   ]
  },
  {
   "cell_type": "code",
   "execution_count": 18,
   "id": "3c93ed30-4270-4ab9-b6a8-5f0377c2cfcb",
   "metadata": {},
   "outputs": [
    {
     "data": {
      "text/plain": [
       "text     object\n",
       "label     int64\n",
       "dtype: object"
      ]
     },
     "execution_count": 18,
     "metadata": {},
     "output_type": "execute_result"
    }
   ],
   "source": [
    "df1['label'] = df1['label'].astype('int64')\n",
    "df1.dtypes"
   ]
  },
  {
   "cell_type": "code",
   "execution_count": 19,
   "id": "dda01cdd",
   "metadata": {},
   "outputs": [
    {
     "data": {
      "text/plain": [
       "(7476, 2)"
      ]
     },
     "execution_count": 19,
     "metadata": {},
     "output_type": "execute_result"
    }
   ],
   "source": [
    "df1.shape"
   ]
  },
  {
   "cell_type": "code",
   "execution_count": 20,
   "id": "e20fae98-64e1-4249-ad65-20bf3eb67f07",
   "metadata": {},
   "outputs": [
    {
     "data": {
      "text/html": [
       "<div>\n",
       "<style scoped>\n",
       "    .dataframe tbody tr th:only-of-type {\n",
       "        vertical-align: middle;\n",
       "    }\n",
       "\n",
       "    .dataframe tbody tr th {\n",
       "        vertical-align: top;\n",
       "    }\n",
       "\n",
       "    .dataframe thead th {\n",
       "        text-align: right;\n",
       "    }\n",
       "</style>\n",
       "<table border=\"1\" class=\"dataframe\">\n",
       "  <thead>\n",
       "    <tr style=\"text-align: right;\">\n",
       "      <th></th>\n",
       "      <th>text</th>\n",
       "      <th>label</th>\n",
       "    </tr>\n",
       "  </thead>\n",
       "  <tbody>\n",
       "    <tr>\n",
       "      <th>2827</th>\n",
       "      <td>It's okay, I also have no intention to be angr...</td>\n",
       "      <td>0</td>\n",
       "    </tr>\n",
       "    <tr>\n",
       "      <th>2858</th>\n",
       "      <td>COMO Q JYP RIPEO</td>\n",
       "      <td>0</td>\n",
       "    </tr>\n",
       "    <tr>\n",
       "      <th>2133</th>\n",
       "      <td>Pharmaceutical stocks are in ruins right now. ...</td>\n",
       "      <td>0</td>\n",
       "    </tr>\n",
       "    <tr>\n",
       "      <th>4357</th>\n",
       "      <td>â€œSuicide it too hard to commitâ€Watch me. G...</td>\n",
       "      <td>1</td>\n",
       "    </tr>\n",
       "    <tr>\n",
       "      <th>2908</th>\n",
       "      <td>It's not really nice to be ignored ðŸ˜©</td>\n",
       "      <td>0</td>\n",
       "    </tr>\n",
       "    <tr>\n",
       "      <th>...</th>\n",
       "      <td>...</td>\n",
       "      <td>...</td>\n",
       "    </tr>\n",
       "    <tr>\n",
       "      <th>5191</th>\n",
       "      <td>Looking for mutualan with fellow nctzens, who ...</td>\n",
       "      <td>0</td>\n",
       "    </tr>\n",
       "    <tr>\n",
       "      <th>5226</th>\n",
       "      <td>Ami ajke onk happy</td>\n",
       "      <td>0</td>\n",
       "    </tr>\n",
       "    <tr>\n",
       "      <th>5390</th>\n",
       "      <td>como que jyp mur10 ee</td>\n",
       "      <td>0</td>\n",
       "    </tr>\n",
       "    <tr>\n",
       "      <th>860</th>\n",
       "      <td>Arya, if you play futsal, you don't use a goal</td>\n",
       "      <td>0</td>\n",
       "    </tr>\n",
       "    <tr>\n",
       "      <th>7270</th>\n",
       "      <td>I feel excited . Gosh, a little tremor</td>\n",
       "      <td>0</td>\n",
       "    </tr>\n",
       "  </tbody>\n",
       "</table>\n",
       "<p>7476 rows × 2 columns</p>\n",
       "</div>"
      ],
      "text/plain": [
       "                                                   text  label\n",
       "2827  It's okay, I also have no intention to be angr...      0\n",
       "2858                                   COMO Q JYP RIPEO      0\n",
       "2133  Pharmaceutical stocks are in ruins right now. ...      0\n",
       "4357  â€œSuicide it too hard to commitâ€Watch me. G...      1\n",
       "2908            It's not really nice to be ignored ðŸ˜©      0\n",
       "...                                                 ...    ...\n",
       "5191  Looking for mutualan with fellow nctzens, who ...      0\n",
       "5226                                 Ami ajke onk happy      0\n",
       "5390                              como que jyp mur10 ee      0\n",
       "860      Arya, if you play futsal, you don't use a goal      0\n",
       "7270             I feel excited . Gosh, a little tremor      0\n",
       "\n",
       "[7476 rows x 2 columns]"
      ]
     },
     "execution_count": 20,
     "metadata": {},
     "output_type": "execute_result"
    }
   ],
   "source": [
    "df1"
   ]
  },
  {
   "cell_type": "code",
   "execution_count": 21,
   "id": "a7c3afc5",
   "metadata": {},
   "outputs": [],
   "source": [
    "df1.to_csv('C:/Users/anabe/Documents/PRUEBAS/GPT/corpus/df.csv',header=True, index=False)"
   ]
  }
 ],
 "metadata": {
  "kernelspec": {
   "display_name": "Python 3 (ipykernel)",
   "language": "python",
   "name": "python3"
  },
  "language_info": {
   "codemirror_mode": {
    "name": "ipython",
    "version": 3
   },
   "file_extension": ".py",
   "mimetype": "text/x-python",
   "name": "python",
   "nbconvert_exporter": "python",
   "pygments_lexer": "ipython3",
   "version": "3.11.7"
  }
 },
 "nbformat": 4,
 "nbformat_minor": 5
}
