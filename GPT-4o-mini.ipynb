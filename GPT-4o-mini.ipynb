{
 "cells": [
  {
   "cell_type": "markdown",
   "id": "a6f9f5cd",
   "metadata": {},
   "source": [
    "# Instalacion de dependencias"
   ]
  },
  {
   "cell_type": "code",
   "execution_count": 2,
   "id": "bb7bc868",
   "metadata": {},
   "outputs": [],
   "source": [
    "#pip install spacy"
   ]
  },
  {
   "cell_type": "code",
   "execution_count": 3,
   "id": "ab594585",
   "metadata": {},
   "outputs": [],
   "source": [
    "#pip install happytransformer"
   ]
  },
  {
   "cell_type": "code",
   "execution_count": 4,
   "id": "558b3afe",
   "metadata": {},
   "outputs": [],
   "source": [
    "#pip install nltk"
   ]
  },
  {
   "cell_type": "code",
   "execution_count": 5,
   "id": "96b6dc1e",
   "metadata": {},
   "outputs": [],
   "source": [
    "#!python -m spacy download en_core_web_sm"
   ]
  },
  {
   "cell_type": "code",
   "execution_count": 6,
   "id": "c86766f8",
   "metadata": {},
   "outputs": [],
   "source": [
    "#pip install wordcloud"
   ]
  },
  {
   "cell_type": "code",
   "execution_count": 7,
   "id": "2b5da996",
   "metadata": {},
   "outputs": [],
   "source": [
    "#nltk.download('wordnet')"
   ]
  },
  {
   "cell_type": "markdown",
   "id": "abeb2f3e",
   "metadata": {},
   "source": [
    "https://www.kaggle.com/datasets/nidhiy07/student-depression-text"
   ]
  },
  {
   "cell_type": "markdown",
   "id": "126ed65e",
   "metadata": {},
   "source": [
    "https://www.kaggle.com/code/nidhiy07/forecast-depression-anxiety-text"
   ]
  },
  {
   "cell_type": "markdown",
   "id": "a3df503b-a4ee-4177-baca-51e2c78b922c",
   "metadata": {},
   "source": [
    "1) Este conjunto de datos contiene información en formato Excel que comprende unos 7489 datos de redes sociales, comentarios de Facebook, etc.\n",
    "2) Todas las personas seleccionadas para la anotación de datos dominan muy bien el inglés y son estudiantes, con edades comprendidas entre los 15 y los 17 años.\n",
    "3)Hay 5 columnas en este conjunto de datos. Texto, etiquetas, edad, categoría de edad y sexo.\n",
    "4) En las columnas de texto hay texto normal y de ansiedad/depresión, y la columna de etiquetas indica si el texto correspondiente denota ansiedad o depresión.\n",
    "1 ANSIEDAD\n",
    "0 NEUTRO"
   ]
  },
  {
   "cell_type": "code",
   "execution_count": 6,
   "id": "3ea762b0",
   "metadata": {},
   "outputs": [],
   "source": [
    "import pandas as pd\n",
    "import numpy as np\n",
    "import torch\n",
    "from torch import nn, optim #Pytorch\n",
    "from datasets import load_dataset"
   ]
  },
  {
   "cell_type": "code",
   "execution_count": 2,
   "id": "b44ea733",
   "metadata": {},
   "outputs": [
    {
     "name": "stdout",
     "output_type": "stream",
     "text": [
      "cpu\n"
     ]
    }
   ],
   "source": [
    "RANDOM_SEED = 42\n",
    "BATCH_SIZE = 16\n",
    "np.random.seed(RANDOM_SEED)\n",
    "torch.manual_seed(RANDOM_SEED)\n",
    "device = torch.device(\"cuda:0\" if torch.cuda.is_available() else \"cpu\")\n",
    "print(device)"
   ]
  },
  {
   "cell_type": "markdown",
   "id": "07ad0cd9",
   "metadata": {},
   "source": [
    "## Cargar datos"
   ]
  },
  {
   "cell_type": "code",
   "execution_count": 3,
   "id": "5f92563e",
   "metadata": {
    "scrolled": true
   },
   "outputs": [
    {
     "data": {
      "text/html": [
       "<div>\n",
       "<style scoped>\n",
       "    .dataframe tbody tr th:only-of-type {\n",
       "        vertical-align: middle;\n",
       "    }\n",
       "\n",
       "    .dataframe tbody tr th {\n",
       "        vertical-align: top;\n",
       "    }\n",
       "\n",
       "    .dataframe thead th {\n",
       "        text-align: right;\n",
       "    }\n",
       "</style>\n",
       "<table border=\"1\" class=\"dataframe\">\n",
       "  <thead>\n",
       "    <tr style=\"text-align: right;\">\n",
       "      <th></th>\n",
       "      <th>text</th>\n",
       "      <th>label</th>\n",
       "      <th>Age</th>\n",
       "      <th>Gender</th>\n",
       "      <th>Age Category</th>\n",
       "    </tr>\n",
       "  </thead>\n",
       "  <tbody>\n",
       "    <tr>\n",
       "      <th>0</th>\n",
       "      <td>let Gather For Party</td>\n",
       "      <td>0.0</td>\n",
       "      <td>16.0</td>\n",
       "      <td>Male</td>\n",
       "      <td>Teen Age</td>\n",
       "    </tr>\n",
       "    <tr>\n",
       "      <th>1</th>\n",
       "      <td>I hate being alive when I feel so dead inside.</td>\n",
       "      <td>1.0</td>\n",
       "      <td>17.0</td>\n",
       "      <td>Female</td>\n",
       "      <td>Teen Age</td>\n",
       "    </tr>\n",
       "    <tr>\n",
       "      <th>2</th>\n",
       "      <td>Exam are Comimg I  m already  Feeling Very Dep...</td>\n",
       "      <td>1.0</td>\n",
       "      <td>16.0</td>\n",
       "      <td>Male</td>\n",
       "      <td>Teen Age</td>\n",
       "    </tr>\n",
       "    <tr>\n",
       "      <th>3</th>\n",
       "      <td>Nice picture</td>\n",
       "      <td>0.0</td>\n",
       "      <td>16.0</td>\n",
       "      <td>Male</td>\n",
       "      <td>Teen Age</td>\n",
       "    </tr>\n",
       "    <tr>\n",
       "      <th>4</th>\n",
       "      <td>Feeling worried, even though you actually have...</td>\n",
       "      <td>1.0</td>\n",
       "      <td>16.0</td>\n",
       "      <td>Male</td>\n",
       "      <td>Teen Age</td>\n",
       "    </tr>\n",
       "    <tr>\n",
       "      <th>5</th>\n",
       "      <td>There are people who died, their friends didn'...</td>\n",
       "      <td>0.0</td>\n",
       "      <td>16.0</td>\n",
       "      <td>Male</td>\n",
       "      <td>Teen Age</td>\n",
       "    </tr>\n",
       "    <tr>\n",
       "      <th>6</th>\n",
       "      <td>keep it up hahaha</td>\n",
       "      <td>0.0</td>\n",
       "      <td>16.0</td>\n",
       "      <td>Male</td>\n",
       "      <td>Teen Age</td>\n",
       "    </tr>\n",
       "    <tr>\n",
       "      <th>7</th>\n",
       "      <td>The match cycle I had.Buy-brought-out-lost.</td>\n",
       "      <td>0.0</td>\n",
       "      <td>16.0</td>\n",
       "      <td>Male</td>\n",
       "      <td>Teen Age</td>\n",
       "    </tr>\n",
       "    <tr>\n",
       "      <th>8</th>\n",
       "      <td>nctb! jewel case dream, which doesn't have a p...</td>\n",
       "      <td>0.0</td>\n",
       "      <td>16.0</td>\n",
       "      <td>Male</td>\n",
       "      <td>Teen Age</td>\n",
       "    </tr>\n",
       "    <tr>\n",
       "      <th>9</th>\n",
       "      <td>college but it's like not going to college, bu...</td>\n",
       "      <td>0.0</td>\n",
       "      <td>16.0</td>\n",
       "      <td>Male</td>\n",
       "      <td>Teen Age</td>\n",
       "    </tr>\n",
       "  </tbody>\n",
       "</table>\n",
       "</div>"
      ],
      "text/plain": [
       "                                                text  label   Age  Gender  \\\n",
       "0                               let Gather For Party    0.0  16.0    Male   \n",
       "1    I hate being alive when I feel so dead inside.     1.0  17.0  Female   \n",
       "2  Exam are Comimg I  m already  Feeling Very Dep...    1.0  16.0    Male   \n",
       "3                                       Nice picture    0.0  16.0    Male   \n",
       "4  Feeling worried, even though you actually have...    1.0  16.0    Male   \n",
       "5  There are people who died, their friends didn'...    0.0  16.0    Male   \n",
       "6                                  keep it up hahaha    0.0  16.0    Male   \n",
       "7        The match cycle I had.Buy-brought-out-lost.    0.0  16.0    Male   \n",
       "8  nctb! jewel case dream, which doesn't have a p...    0.0  16.0    Male   \n",
       "9  college but it's like not going to college, bu...    0.0  16.0    Male   \n",
       "\n",
       "  Age Category  \n",
       "0     Teen Age  \n",
       "1     Teen Age  \n",
       "2     Teen Age  \n",
       "3     Teen Age  \n",
       "4     Teen Age  \n",
       "5     Teen Age  \n",
       "6     Teen Age  \n",
       "7     Teen Age  \n",
       "8     Teen Age  \n",
       "9     Teen Age  "
      ]
     },
     "execution_count": 3,
     "metadata": {},
     "output_type": "execute_result"
    }
   ],
   "source": [
    "dir_pandas = 'C:/Users/anabe/Documents/PRUEBAS/DEPRESION ACT/corpus/{}'\n",
    "df=pd.read_excel(dir_pandas.format('depresion.xlsx'))\n",
    "#Solo para ver los primeros\n",
    "df.head(10)"
   ]
  },
  {
   "cell_type": "code",
   "execution_count": 4,
   "id": "f9493de7",
   "metadata": {},
   "outputs": [
    {
     "name": "stdout",
     "output_type": "stream",
     "text": [
      "<class 'pandas.core.frame.DataFrame'>\n",
      "RangeIndex: 7489 entries, 0 to 7488\n",
      "Data columns (total 5 columns):\n",
      " #   Column        Non-Null Count  Dtype  \n",
      "---  ------        --------------  -----  \n",
      " 0   text          7476 non-null   object \n",
      " 1   label         7486 non-null   float64\n",
      " 2   Age           7486 non-null   float64\n",
      " 3   Gender        7486 non-null   object \n",
      " 4   Age Category  7486 non-null   object \n",
      "dtypes: float64(2), object(3)\n",
      "memory usage: 292.7+ KB\n"
     ]
    }
   ],
   "source": [
    "df.info()"
   ]
  },
  {
   "cell_type": "code",
   "execution_count": 5,
   "id": "4597ce66",
   "metadata": {},
   "outputs": [
    {
     "data": {
      "text/plain": [
       "text            13\n",
       "label            3\n",
       "Age              3\n",
       "Gender           3\n",
       "Age Category     3\n",
       "dtype: int64"
      ]
     },
     "execution_count": 5,
     "metadata": {},
     "output_type": "execute_result"
    }
   ],
   "source": [
    "# Checking null values\n",
    "df.isnull().sum()"
   ]
  },
  {
   "cell_type": "code",
   "execution_count": 6,
   "id": "35b4529a",
   "metadata": {},
   "outputs": [
    {
     "data": {
      "text/html": [
       "<div>\n",
       "<style scoped>\n",
       "    .dataframe tbody tr th:only-of-type {\n",
       "        vertical-align: middle;\n",
       "    }\n",
       "\n",
       "    .dataframe tbody tr th {\n",
       "        vertical-align: top;\n",
       "    }\n",
       "\n",
       "    .dataframe thead th {\n",
       "        text-align: right;\n",
       "    }\n",
       "</style>\n",
       "<table border=\"1\" class=\"dataframe\">\n",
       "  <thead>\n",
       "    <tr style=\"text-align: right;\">\n",
       "      <th></th>\n",
       "      <th>label</th>\n",
       "      <th>Age</th>\n",
       "    </tr>\n",
       "  </thead>\n",
       "  <tbody>\n",
       "    <tr>\n",
       "      <th>count</th>\n",
       "      <td>7486.000000</td>\n",
       "      <td>7486.000000</td>\n",
       "    </tr>\n",
       "    <tr>\n",
       "      <th>mean</th>\n",
       "      <td>0.163906</td>\n",
       "      <td>15.379108</td>\n",
       "    </tr>\n",
       "    <tr>\n",
       "      <th>std</th>\n",
       "      <td>0.370215</td>\n",
       "      <td>1.058104</td>\n",
       "    </tr>\n",
       "    <tr>\n",
       "      <th>min</th>\n",
       "      <td>0.000000</td>\n",
       "      <td>13.000000</td>\n",
       "    </tr>\n",
       "    <tr>\n",
       "      <th>25%</th>\n",
       "      <td>0.000000</td>\n",
       "      <td>14.000000</td>\n",
       "    </tr>\n",
       "    <tr>\n",
       "      <th>50%</th>\n",
       "      <td>0.000000</td>\n",
       "      <td>15.000000</td>\n",
       "    </tr>\n",
       "    <tr>\n",
       "      <th>75%</th>\n",
       "      <td>0.000000</td>\n",
       "      <td>16.000000</td>\n",
       "    </tr>\n",
       "    <tr>\n",
       "      <th>max</th>\n",
       "      <td>1.000000</td>\n",
       "      <td>17.000000</td>\n",
       "    </tr>\n",
       "  </tbody>\n",
       "</table>\n",
       "</div>"
      ],
      "text/plain": [
       "             label          Age\n",
       "count  7486.000000  7486.000000\n",
       "mean      0.163906    15.379108\n",
       "std       0.370215     1.058104\n",
       "min       0.000000    13.000000\n",
       "25%       0.000000    14.000000\n",
       "50%       0.000000    15.000000\n",
       "75%       0.000000    16.000000\n",
       "max       1.000000    17.000000"
      ]
     },
     "execution_count": 6,
     "metadata": {},
     "output_type": "execute_result"
    }
   ],
   "source": [
    "df.describe()"
   ]
  },
  {
   "cell_type": "code",
   "execution_count": 7,
   "id": "54d11bd3",
   "metadata": {},
   "outputs": [
    {
     "name": "stdout",
     "output_type": "stream",
     "text": [
      "There are 39 duplicate entries among 7489 entries in  dataset.\n"
     ]
    }
   ],
   "source": [
    "dup_df = df[df.duplicated()].shape[0]\n",
    "print(f\"There are {dup_df} duplicate entries among {df.shape[0]} entries in  dataset.\")"
   ]
  },
  {
   "cell_type": "code",
   "execution_count": 8,
   "id": "33e43c06",
   "metadata": {},
   "outputs": [],
   "source": [
    "df = df.sample(frac = 1)"
   ]
  },
  {
   "cell_type": "code",
   "execution_count": 9,
   "id": "3e0b5115",
   "metadata": {},
   "outputs": [
    {
     "data": {
      "text/html": [
       "<style type=\"text/css\">\n",
       "#T_cc489_row0_col0, #T_cc489_row0_col1 {\n",
       "  background-color: #F3FFFF;\n",
       "  color: black;\n",
       "  border: 1.5px  solid black;\n",
       "}\n",
       "</style>\n",
       "<table id=\"T_cc489\">\n",
       "  <thead>\n",
       "    <tr>\n",
       "      <th class=\"index_name level0\" >label</th>\n",
       "      <th id=\"T_cc489_level0_col0\" class=\"col_heading level0 col0\" >0.000000</th>\n",
       "      <th id=\"T_cc489_level0_col1\" class=\"col_heading level0 col1\" >1.000000</th>\n",
       "    </tr>\n",
       "  </thead>\n",
       "  <tbody>\n",
       "    <tr>\n",
       "      <th id=\"T_cc489_level0_row0\" class=\"row_heading level0 row0\" >count</th>\n",
       "      <td id=\"T_cc489_row0_col0\" class=\"data row0 col0\" >6259</td>\n",
       "      <td id=\"T_cc489_row0_col1\" class=\"data row0 col1\" >1227</td>\n",
       "    </tr>\n",
       "  </tbody>\n",
       "</table>\n"
      ],
      "text/plain": [
       "<pandas.io.formats.style.Styler at 0x1653e07cf10>"
      ]
     },
     "execution_count": 9,
     "metadata": {},
     "output_type": "execute_result"
    }
   ],
   "source": [
    "df['label'].value_counts().to_frame().T.style.set_properties(**{\"background-color\": \"#F3FFFF\",\"color\":\"black\",\"border\": \"1.5px  solid black\"})"
   ]
  },
  {
   "cell_type": "code",
   "execution_count": 10,
   "id": "53a80ea5",
   "metadata": {},
   "outputs": [
    {
     "data": {
      "text/html": [
       "<div>\n",
       "<style scoped>\n",
       "    .dataframe tbody tr th:only-of-type {\n",
       "        vertical-align: middle;\n",
       "    }\n",
       "\n",
       "    .dataframe tbody tr th {\n",
       "        vertical-align: top;\n",
       "    }\n",
       "\n",
       "    .dataframe thead th {\n",
       "        text-align: right;\n",
       "    }\n",
       "</style>\n",
       "<table border=\"1\" class=\"dataframe\">\n",
       "  <thead>\n",
       "    <tr style=\"text-align: right;\">\n",
       "      <th></th>\n",
       "      <th>text</th>\n",
       "      <th>label</th>\n",
       "      <th>Age</th>\n",
       "      <th>Gender</th>\n",
       "      <th>Age Category</th>\n",
       "    </tr>\n",
       "  </thead>\n",
       "  <tbody>\n",
       "    <tr>\n",
       "      <th>2827</th>\n",
       "      <td>It's okay, I also have no intention to be angr...</td>\n",
       "      <td>0.0</td>\n",
       "      <td>14.0</td>\n",
       "      <td>Male</td>\n",
       "      <td>Young Age</td>\n",
       "    </tr>\n",
       "    <tr>\n",
       "      <th>2858</th>\n",
       "      <td>COMO Q JYP RIPEO</td>\n",
       "      <td>0.0</td>\n",
       "      <td>14.0</td>\n",
       "      <td>Male</td>\n",
       "      <td>Young Age</td>\n",
       "    </tr>\n",
       "    <tr>\n",
       "      <th>2133</th>\n",
       "      <td>Pharmaceutical stocks are in ruins right now. ...</td>\n",
       "      <td>0.0</td>\n",
       "      <td>17.0</td>\n",
       "      <td>Male</td>\n",
       "      <td>Teen Age</td>\n",
       "    </tr>\n",
       "    <tr>\n",
       "      <th>4357</th>\n",
       "      <td>â€œSuicide it too hard to commitâ€Watch me. G...</td>\n",
       "      <td>1.0</td>\n",
       "      <td>16.0</td>\n",
       "      <td>Female</td>\n",
       "      <td>Teen Age</td>\n",
       "    </tr>\n",
       "    <tr>\n",
       "      <th>2908</th>\n",
       "      <td>It's not really nice to be ignored ðŸ˜©</td>\n",
       "      <td>0.0</td>\n",
       "      <td>14.0</td>\n",
       "      <td>Male</td>\n",
       "      <td>Young Age</td>\n",
       "    </tr>\n",
       "  </tbody>\n",
       "</table>\n",
       "</div>"
      ],
      "text/plain": [
       "                                                   text  label   Age  Gender  \\\n",
       "2827  It's okay, I also have no intention to be angr...    0.0  14.0    Male   \n",
       "2858                                   COMO Q JYP RIPEO    0.0  14.0    Male   \n",
       "2133  Pharmaceutical stocks are in ruins right now. ...    0.0  17.0    Male   \n",
       "4357  â€œSuicide it too hard to commitâ€Watch me. G...    1.0  16.0  Female   \n",
       "2908            It's not really nice to be ignored ðŸ˜©    0.0  14.0    Male   \n",
       "\n",
       "     Age Category  \n",
       "2827    Young Age  \n",
       "2858    Young Age  \n",
       "2133     Teen Age  \n",
       "4357     Teen Age  \n",
       "2908    Young Age  "
      ]
     },
     "execution_count": 10,
     "metadata": {},
     "output_type": "execute_result"
    }
   ],
   "source": [
    "df.head()"
   ]
  },
  {
   "cell_type": "code",
   "execution_count": 11,
   "id": "76a68380",
   "metadata": {},
   "outputs": [
    {
     "data": {
      "text/plain": [
       "text             object\n",
       "label           float64\n",
       "Age             float64\n",
       "Gender           object\n",
       "Age Category     object\n",
       "dtype: object"
      ]
     },
     "execution_count": 11,
     "metadata": {},
     "output_type": "execute_result"
    }
   ],
   "source": [
    "df.dtypes"
   ]
  },
  {
   "cell_type": "code",
   "execution_count": 12,
   "id": "c6eca751",
   "metadata": {},
   "outputs": [
    {
     "data": {
      "text/plain": [
       "label\n",
       "0.0    6259\n",
       "1.0    1227\n",
       "Name: count, dtype: int64"
      ]
     },
     "execution_count": 12,
     "metadata": {},
     "output_type": "execute_result"
    }
   ],
   "source": [
    "df['label'].value_counts()"
   ]
  },
  {
   "cell_type": "code",
   "execution_count": 13,
   "id": "b68299c8",
   "metadata": {},
   "outputs": [
    {
     "data": {
      "text/html": [
       "<div>\n",
       "<style scoped>\n",
       "    .dataframe tbody tr th:only-of-type {\n",
       "        vertical-align: middle;\n",
       "    }\n",
       "\n",
       "    .dataframe tbody tr th {\n",
       "        vertical-align: top;\n",
       "    }\n",
       "\n",
       "    .dataframe thead th {\n",
       "        text-align: right;\n",
       "    }\n",
       "</style>\n",
       "<table border=\"1\" class=\"dataframe\">\n",
       "  <thead>\n",
       "    <tr style=\"text-align: right;\">\n",
       "      <th></th>\n",
       "      <th>text</th>\n",
       "      <th>label</th>\n",
       "    </tr>\n",
       "  </thead>\n",
       "  <tbody>\n",
       "    <tr>\n",
       "      <th>5839</th>\n",
       "      <td>qn es yuri</td>\n",
       "      <td>0.0</td>\n",
       "    </tr>\n",
       "    <tr>\n",
       "      <th>4953</th>\n",
       "      <td>In the previous project, my uname is different...</td>\n",
       "      <td>0.0</td>\n",
       "    </tr>\n",
       "    <tr>\n",
       "      <th>3581</th>\n",
       "      <td>I'm so nervous I swear, the views are getting ...</td>\n",
       "      <td>1.0</td>\n",
       "    </tr>\n",
       "  </tbody>\n",
       "</table>\n",
       "</div>"
      ],
      "text/plain": [
       "                                                   text  label\n",
       "5839                                         qn es yuri    0.0\n",
       "4953  In the previous project, my uname is different...    0.0\n",
       "3581  I'm so nervous I swear, the views are getting ...    1.0"
      ]
     },
     "execution_count": 13,
     "metadata": {},
     "output_type": "execute_result"
    }
   ],
   "source": [
    "not_used_cols = ['Age','Gender',\"Age Category\"]\n",
    "df1 = df.drop(not_used_cols,axis=1)\n",
    "df1.sample(3)"
   ]
  },
  {
   "cell_type": "code",
   "execution_count": 14,
   "id": "a50af988",
   "metadata": {},
   "outputs": [
    {
     "name": "stdout",
     "output_type": "stream",
     "text": [
      "DataFrame after removing rows with NaN value in any column:\n",
      "                                                   text  label\n",
      "2827  It's okay, I also have no intention to be angr...    0.0\n",
      "2858                                   COMO Q JYP RIPEO    0.0\n",
      "2133  Pharmaceutical stocks are in ruins right now. ...    0.0\n",
      "4357  â€œSuicide it too hard to commitâ€Watch me. G...    1.0\n",
      "2908            It's not really nice to be ignored ðŸ˜©    0.0\n",
      "...                                                 ...    ...\n",
      "5191  Looking for mutualan with fellow nctzens, who ...    0.0\n",
      "5226                                 Ami ajke onk happy    0.0\n",
      "5390                              como que jyp mur10 ee    0.0\n",
      "860      Arya, if you play futsal, you don't use a goal    0.0\n",
      "7270             I feel excited . Gosh, a little tremor    0.0\n",
      "\n",
      "[7476 rows x 2 columns]\n"
     ]
    }
   ],
   "source": [
    "df1 = df1.dropna(axis=0)\n",
    "print(\"DataFrame after removing rows with NaN value in any column:\")\n",
    "print(df1)"
   ]
  },
  {
   "cell_type": "code",
   "execution_count": 15,
   "id": "7033fff8",
   "metadata": {},
   "outputs": [
    {
     "data": {
      "text/plain": [
       "(7476, 2)"
      ]
     },
     "execution_count": 15,
     "metadata": {},
     "output_type": "execute_result"
    }
   ],
   "source": [
    "df1.shape"
   ]
  },
  {
   "cell_type": "code",
   "execution_count": 16,
   "id": "ead923d8",
   "metadata": {},
   "outputs": [
    {
     "data": {
      "text/html": [
       "<div>\n",
       "<style scoped>\n",
       "    .dataframe tbody tr th:only-of-type {\n",
       "        vertical-align: middle;\n",
       "    }\n",
       "\n",
       "    .dataframe tbody tr th {\n",
       "        vertical-align: top;\n",
       "    }\n",
       "\n",
       "    .dataframe thead th {\n",
       "        text-align: right;\n",
       "    }\n",
       "</style>\n",
       "<table border=\"1\" class=\"dataframe\">\n",
       "  <thead>\n",
       "    <tr style=\"text-align: right;\">\n",
       "      <th></th>\n",
       "      <th>text</th>\n",
       "      <th>label</th>\n",
       "    </tr>\n",
       "  </thead>\n",
       "  <tbody>\n",
       "    <tr>\n",
       "      <th>2827</th>\n",
       "      <td>It's okay, I also have no intention to be angr...</td>\n",
       "      <td>0.0</td>\n",
       "    </tr>\n",
       "    <tr>\n",
       "      <th>2858</th>\n",
       "      <td>COMO Q JYP RIPEO</td>\n",
       "      <td>0.0</td>\n",
       "    </tr>\n",
       "    <tr>\n",
       "      <th>2133</th>\n",
       "      <td>Pharmaceutical stocks are in ruins right now. ...</td>\n",
       "      <td>0.0</td>\n",
       "    </tr>\n",
       "    <tr>\n",
       "      <th>4357</th>\n",
       "      <td>â€œSuicide it too hard to commitâ€Watch me. G...</td>\n",
       "      <td>1.0</td>\n",
       "    </tr>\n",
       "    <tr>\n",
       "      <th>2908</th>\n",
       "      <td>It's not really nice to be ignored ðŸ˜©</td>\n",
       "      <td>0.0</td>\n",
       "    </tr>\n",
       "    <tr>\n",
       "      <th>...</th>\n",
       "      <td>...</td>\n",
       "      <td>...</td>\n",
       "    </tr>\n",
       "    <tr>\n",
       "      <th>5191</th>\n",
       "      <td>Looking for mutualan with fellow nctzens, who ...</td>\n",
       "      <td>0.0</td>\n",
       "    </tr>\n",
       "    <tr>\n",
       "      <th>5226</th>\n",
       "      <td>Ami ajke onk happy</td>\n",
       "      <td>0.0</td>\n",
       "    </tr>\n",
       "    <tr>\n",
       "      <th>5390</th>\n",
       "      <td>como que jyp mur10 ee</td>\n",
       "      <td>0.0</td>\n",
       "    </tr>\n",
       "    <tr>\n",
       "      <th>860</th>\n",
       "      <td>Arya, if you play futsal, you don't use a goal</td>\n",
       "      <td>0.0</td>\n",
       "    </tr>\n",
       "    <tr>\n",
       "      <th>7270</th>\n",
       "      <td>I feel excited . Gosh, a little tremor</td>\n",
       "      <td>0.0</td>\n",
       "    </tr>\n",
       "  </tbody>\n",
       "</table>\n",
       "<p>7476 rows × 2 columns</p>\n",
       "</div>"
      ],
      "text/plain": [
       "                                                   text  label\n",
       "2827  It's okay, I also have no intention to be angr...    0.0\n",
       "2858                                   COMO Q JYP RIPEO    0.0\n",
       "2133  Pharmaceutical stocks are in ruins right now. ...    0.0\n",
       "4357  â€œSuicide it too hard to commitâ€Watch me. G...    1.0\n",
       "2908            It's not really nice to be ignored ðŸ˜©    0.0\n",
       "...                                                 ...    ...\n",
       "5191  Looking for mutualan with fellow nctzens, who ...    0.0\n",
       "5226                                 Ami ajke onk happy    0.0\n",
       "5390                              como que jyp mur10 ee    0.0\n",
       "860      Arya, if you play futsal, you don't use a goal    0.0\n",
       "7270             I feel excited . Gosh, a little tremor    0.0\n",
       "\n",
       "[7476 rows x 2 columns]"
      ]
     },
     "execution_count": 16,
     "metadata": {},
     "output_type": "execute_result"
    }
   ],
   "source": [
    "df1"
   ]
  },
  {
   "cell_type": "code",
   "execution_count": 17,
   "id": "55c819bf",
   "metadata": {},
   "outputs": [
    {
     "data": {
      "text/plain": [
       "array([0., 1.])"
      ]
     },
     "execution_count": 17,
     "metadata": {},
     "output_type": "execute_result"
    }
   ],
   "source": [
    "df1['label'].unique()"
   ]
  },
  {
   "cell_type": "code",
   "execution_count": 18,
   "id": "5955246c",
   "metadata": {},
   "outputs": [
    {
     "data": {
      "text/html": [
       "<div>\n",
       "<style scoped>\n",
       "    .dataframe tbody tr th:only-of-type {\n",
       "        vertical-align: middle;\n",
       "    }\n",
       "\n",
       "    .dataframe tbody tr th {\n",
       "        vertical-align: top;\n",
       "    }\n",
       "\n",
       "    .dataframe thead th {\n",
       "        text-align: right;\n",
       "    }\n",
       "</style>\n",
       "<table border=\"1\" class=\"dataframe\">\n",
       "  <thead>\n",
       "    <tr style=\"text-align: right;\">\n",
       "      <th></th>\n",
       "      <th>text</th>\n",
       "      <th>label</th>\n",
       "    </tr>\n",
       "  </thead>\n",
       "  <tbody>\n",
       "    <tr>\n",
       "      <th>2827</th>\n",
       "      <td>It's okay, I also have no intention to be angr...</td>\n",
       "      <td>0.0</td>\n",
       "    </tr>\n",
       "    <tr>\n",
       "      <th>2858</th>\n",
       "      <td>COMO Q JYP RIPEO</td>\n",
       "      <td>0.0</td>\n",
       "    </tr>\n",
       "    <tr>\n",
       "      <th>2133</th>\n",
       "      <td>Pharmaceutical stocks are in ruins right now. ...</td>\n",
       "      <td>0.0</td>\n",
       "    </tr>\n",
       "    <tr>\n",
       "      <th>4357</th>\n",
       "      <td>â€œSuicide it too hard to commitâ€Watch me. G...</td>\n",
       "      <td>1.0</td>\n",
       "    </tr>\n",
       "    <tr>\n",
       "      <th>2908</th>\n",
       "      <td>It's not really nice to be ignored ðŸ˜©</td>\n",
       "      <td>0.0</td>\n",
       "    </tr>\n",
       "    <tr>\n",
       "      <th>...</th>\n",
       "      <td>...</td>\n",
       "      <td>...</td>\n",
       "    </tr>\n",
       "    <tr>\n",
       "      <th>5191</th>\n",
       "      <td>Looking for mutualan with fellow nctzens, who ...</td>\n",
       "      <td>0.0</td>\n",
       "    </tr>\n",
       "    <tr>\n",
       "      <th>5226</th>\n",
       "      <td>Ami ajke onk happy</td>\n",
       "      <td>0.0</td>\n",
       "    </tr>\n",
       "    <tr>\n",
       "      <th>5390</th>\n",
       "      <td>como que jyp mur10 ee</td>\n",
       "      <td>0.0</td>\n",
       "    </tr>\n",
       "    <tr>\n",
       "      <th>860</th>\n",
       "      <td>Arya, if you play futsal, you don't use a goal</td>\n",
       "      <td>0.0</td>\n",
       "    </tr>\n",
       "    <tr>\n",
       "      <th>7270</th>\n",
       "      <td>I feel excited . Gosh, a little tremor</td>\n",
       "      <td>0.0</td>\n",
       "    </tr>\n",
       "  </tbody>\n",
       "</table>\n",
       "<p>7476 rows × 2 columns</p>\n",
       "</div>"
      ],
      "text/plain": [
       "                                                   text  label\n",
       "2827  It's okay, I also have no intention to be angr...    0.0\n",
       "2858                                   COMO Q JYP RIPEO    0.0\n",
       "2133  Pharmaceutical stocks are in ruins right now. ...    0.0\n",
       "4357  â€œSuicide it too hard to commitâ€Watch me. G...    1.0\n",
       "2908            It's not really nice to be ignored ðŸ˜©    0.0\n",
       "...                                                 ...    ...\n",
       "5191  Looking for mutualan with fellow nctzens, who ...    0.0\n",
       "5226                                 Ami ajke onk happy    0.0\n",
       "5390                              como que jyp mur10 ee    0.0\n",
       "860      Arya, if you play futsal, you don't use a goal    0.0\n",
       "7270             I feel excited . Gosh, a little tremor    0.0\n",
       "\n",
       "[7476 rows x 2 columns]"
      ]
     },
     "execution_count": 18,
     "metadata": {},
     "output_type": "execute_result"
    }
   ],
   "source": [
    "df1"
   ]
  },
  {
   "cell_type": "code",
   "execution_count": 19,
   "id": "dda01cdd",
   "metadata": {},
   "outputs": [
    {
     "data": {
      "text/plain": [
       "(7476, 2)"
      ]
     },
     "execution_count": 19,
     "metadata": {},
     "output_type": "execute_result"
    }
   ],
   "source": [
    "df1.shape"
   ]
  },
  {
   "cell_type": "code",
   "execution_count": 20,
   "id": "a406285d-12b7-4414-b4e8-8199ca53180d",
   "metadata": {},
   "outputs": [
    {
     "data": {
      "text/plain": [
       "text      object\n",
       "label    float64\n",
       "dtype: object"
      ]
     },
     "execution_count": 20,
     "metadata": {},
     "output_type": "execute_result"
    }
   ],
   "source": [
    "df1.dtypes"
   ]
  },
  {
   "cell_type": "code",
   "execution_count": 21,
   "id": "3723b0ae-c72d-4d39-a600-00d6251ebd0d",
   "metadata": {},
   "outputs": [
    {
     "data": {
      "text/plain": [
       "text     object\n",
       "label     int64\n",
       "dtype: object"
      ]
     },
     "execution_count": 21,
     "metadata": {},
     "output_type": "execute_result"
    }
   ],
   "source": [
    "df1['label'] = df1['label'].astype('int64')\n",
    "df1.dtypes"
   ]
  },
  {
   "cell_type": "code",
   "execution_count": 22,
   "id": "cd356c3d-a820-40e1-8751-6e9d51b4ac54",
   "metadata": {},
   "outputs": [],
   "source": [
    "df1['label'] = df1['label'].apply(lambda _: str(_))"
   ]
  },
  {
   "cell_type": "code",
   "execution_count": 23,
   "id": "592af661-e9e2-433a-8a24-a32f6eb98c63",
   "metadata": {},
   "outputs": [
    {
     "data": {
      "text/html": [
       "<div>\n",
       "<style scoped>\n",
       "    .dataframe tbody tr th:only-of-type {\n",
       "        vertical-align: middle;\n",
       "    }\n",
       "\n",
       "    .dataframe tbody tr th {\n",
       "        vertical-align: top;\n",
       "    }\n",
       "\n",
       "    .dataframe thead th {\n",
       "        text-align: right;\n",
       "    }\n",
       "</style>\n",
       "<table border=\"1\" class=\"dataframe\">\n",
       "  <thead>\n",
       "    <tr style=\"text-align: right;\">\n",
       "      <th></th>\n",
       "      <th>text</th>\n",
       "      <th>label</th>\n",
       "    </tr>\n",
       "  </thead>\n",
       "  <tbody>\n",
       "    <tr>\n",
       "      <th>2827</th>\n",
       "      <td>It's okay, I also have no intention to be angr...</td>\n",
       "      <td>0</td>\n",
       "    </tr>\n",
       "    <tr>\n",
       "      <th>2858</th>\n",
       "      <td>COMO Q JYP RIPEO</td>\n",
       "      <td>0</td>\n",
       "    </tr>\n",
       "    <tr>\n",
       "      <th>2133</th>\n",
       "      <td>Pharmaceutical stocks are in ruins right now. ...</td>\n",
       "      <td>0</td>\n",
       "    </tr>\n",
       "    <tr>\n",
       "      <th>4357</th>\n",
       "      <td>â€œSuicide it too hard to commitâ€Watch me. G...</td>\n",
       "      <td>1</td>\n",
       "    </tr>\n",
       "    <tr>\n",
       "      <th>2908</th>\n",
       "      <td>It's not really nice to be ignored ðŸ˜©</td>\n",
       "      <td>0</td>\n",
       "    </tr>\n",
       "    <tr>\n",
       "      <th>...</th>\n",
       "      <td>...</td>\n",
       "      <td>...</td>\n",
       "    </tr>\n",
       "    <tr>\n",
       "      <th>5191</th>\n",
       "      <td>Looking for mutualan with fellow nctzens, who ...</td>\n",
       "      <td>0</td>\n",
       "    </tr>\n",
       "    <tr>\n",
       "      <th>5226</th>\n",
       "      <td>Ami ajke onk happy</td>\n",
       "      <td>0</td>\n",
       "    </tr>\n",
       "    <tr>\n",
       "      <th>5390</th>\n",
       "      <td>como que jyp mur10 ee</td>\n",
       "      <td>0</td>\n",
       "    </tr>\n",
       "    <tr>\n",
       "      <th>860</th>\n",
       "      <td>Arya, if you play futsal, you don't use a goal</td>\n",
       "      <td>0</td>\n",
       "    </tr>\n",
       "    <tr>\n",
       "      <th>7270</th>\n",
       "      <td>I feel excited . Gosh, a little tremor</td>\n",
       "      <td>0</td>\n",
       "    </tr>\n",
       "  </tbody>\n",
       "</table>\n",
       "<p>7476 rows × 2 columns</p>\n",
       "</div>"
      ],
      "text/plain": [
       "                                                   text label\n",
       "2827  It's okay, I also have no intention to be angr...     0\n",
       "2858                                   COMO Q JYP RIPEO     0\n",
       "2133  Pharmaceutical stocks are in ruins right now. ...     0\n",
       "4357  â€œSuicide it too hard to commitâ€Watch me. G...     1\n",
       "2908            It's not really nice to be ignored ðŸ˜©     0\n",
       "...                                                 ...   ...\n",
       "5191  Looking for mutualan with fellow nctzens, who ...     0\n",
       "5226                                 Ami ajke onk happy     0\n",
       "5390                              como que jyp mur10 ee     0\n",
       "860      Arya, if you play futsal, you don't use a goal     0\n",
       "7270             I feel excited . Gosh, a little tremor     0\n",
       "\n",
       "[7476 rows x 2 columns]"
      ]
     },
     "execution_count": 23,
     "metadata": {},
     "output_type": "execute_result"
    }
   ],
   "source": [
    "df1"
   ]
  },
  {
   "cell_type": "code",
   "execution_count": 24,
   "id": "fe6e44ba-5219-44af-9176-3e6b9819b3ae",
   "metadata": {},
   "outputs": [
    {
     "data": {
      "text/plain": [
       "text     object\n",
       "label    object\n",
       "dtype: object"
      ]
     },
     "execution_count": 24,
     "metadata": {},
     "output_type": "execute_result"
    }
   ],
   "source": [
    "df1.dtypes"
   ]
  },
  {
   "cell_type": "code",
   "execution_count": 25,
   "id": "79ba829e-b4f0-4ea4-a5de-1c707bfd5fe2",
   "metadata": {},
   "outputs": [
    {
     "name": "stdout",
     "output_type": "stream",
     "text": [
      "Ejemplos usados para entrenar:  5980\n",
      "Ejemplos usados para test:  1496\n"
     ]
    }
   ],
   "source": [
    "from sklearn.model_selection import train_test_split \n",
    "train_data, train_test = train_test_split(df1, test_size = 0.20)\n",
    "\n",
    "print(\"Ejemplos usados para entrenar: \", len(train_data))\n",
    "print(\"Ejemplos usados para test: \", len(train_test))"
   ]
  },
  {
   "cell_type": "code",
   "execution_count": 26,
   "id": "261ab00f-586c-47de-b224-09ebc3db5f79",
   "metadata": {},
   "outputs": [],
   "source": [
    "train_test.to_csv(\"C:/Users/anabe/Documents/PRUEBAS/OPENAI/DEPRESION/test4.csv\", index=False)"
   ]
  },
  {
   "cell_type": "code",
   "execution_count": 27,
   "id": "4348a25c-ead7-4093-8adf-481a03392de0",
   "metadata": {},
   "outputs": [],
   "source": [
    "def convert_to_gpt4_format(dataset):\n",
    "    fine_tuning_data = []\n",
    "    for _, row in dataset.iterrows():\n",
    "        json_response = '{\"label\": \"' + row['label'] + '\"}'\n",
    "        fine_tuning_data.append({\n",
    "            \"messages\": [\n",
    "                {\"role\": \"user\", \"content\": row['text']},\n",
    "                {\"role\": \"assistant\", \"content\": json_response}\n",
    "            ]\n",
    "        })\n",
    "    return fine_tuning_data\n",
    "\n"
   ]
  },
  {
   "cell_type": "code",
   "execution_count": 28,
   "id": "03a7222e-1893-4bdd-848f-eae13ba29b4b",
   "metadata": {},
   "outputs": [
    {
     "data": {
      "text/plain": [
       "[{'role': 'user',\n",
       "  'content': \"It's okay, I also have no intention to be angry about this\"},\n",
       " {'role': 'assistant', 'content': '{\"label\": \"0\"}'}]"
      ]
     },
     "execution_count": 28,
     "metadata": {},
     "output_type": "execute_result"
    }
   ],
   "source": [
    "dataset = df1\n",
    "converted_data = convert_to_gpt4_format(dataset)\n",
    "converted_data[0]['messages']"
   ]
  },
  {
   "cell_type": "code",
   "execution_count": 29,
   "id": "5e5fa996-2046-4574-846a-ab1fc2c58697",
   "metadata": {},
   "outputs": [
    {
     "data": {
      "text/plain": [
       "{'label': '0'}"
      ]
     },
     "execution_count": 29,
     "metadata": {},
     "output_type": "execute_result"
    }
   ],
   "source": [
    "import json\n",
    "json.loads(converted_data[0]['messages'][-1]['content'])"
   ]
  },
  {
   "cell_type": "code",
   "execution_count": 30,
   "id": "238594ff-864b-4f69-ae88-b875f2fef1b7",
   "metadata": {},
   "outputs": [],
   "source": [
    "from sklearn.model_selection import train_test_split\n",
    "\n",
    "# Stratified splitting. Assuming 'Top Category' can be used for stratification\n",
    "train_data, val_data = train_test_split(\n",
    "    converted_data,\n",
    "    test_size=0.2,\n",
    "    stratify=dataset['label'],\n",
    "    random_state=42  # for reproducibility\n",
    ")"
   ]
  },
  {
   "cell_type": "code",
   "execution_count": 31,
   "id": "60aa169c-44bd-4413-8f75-87409ae3c117",
   "metadata": {},
   "outputs": [
    {
     "data": {
      "text/plain": [
       "dict"
      ]
     },
     "execution_count": 31,
     "metadata": {},
     "output_type": "execute_result"
    }
   ],
   "source": [
    "type(train_data[0])"
   ]
  },
  {
   "cell_type": "code",
   "execution_count": 32,
   "id": "053e698c-bbfa-44cf-9288-0f4620377f43",
   "metadata": {},
   "outputs": [],
   "source": [
    "def write_to_jsonl(data, file_path):\n",
    "    with open(file_path, 'w') as file:\n",
    "        for entry in data:\n",
    "            json.dump(entry, file)\n",
    "            file.write('\\n')\n",
    "\n",
    "\n",
    "training_file_name = \"train4.jsonl\"\n",
    "validation_file_name = \"val4.jsonl\"\n",
    "\n",
    "write_to_jsonl(train_data, training_file_name)\n",
    "write_to_jsonl(val_data, validation_file_name)"
   ]
  },
  {
   "cell_type": "markdown",
   "id": "8d0568fa-14c0-4e22-9985-a7f322640930",
   "metadata": {},
   "source": [
    "ENTRENAMIENTO\n"
   ]
  },
  {
   "cell_type": "code",
   "execution_count": 8,
   "id": "172b2e9e-d112-4e7b-be49-bcf15ad632e0",
   "metadata": {},
   "outputs": [],
   "source": [
    "import os\n",
    "os.environ['OPENAI_API_KEY'] = 'sk-******'"
   ]
  },
  {
   "cell_type": "code",
   "execution_count": 9,
   "id": "3199f08d-486f-47c6-acdb-690fff88e965",
   "metadata": {},
   "outputs": [],
   "source": [
    "import openai"
   ]
  },
  {
   "cell_type": "code",
   "execution_count": 10,
   "id": "8f3954b3-adf1-4396-88ac-407334bab458",
   "metadata": {},
   "outputs": [
    {
     "name": "stdout",
     "output_type": "stream",
     "text": [
      "OpenAI version is compatible.\n",
      "OPENAI WAS GREAT AGAIN\n"
     ]
    }
   ],
   "source": [
    "import openai\n",
    "from packaging import version\n",
    "\n",
    "required_version = version.parse(\"1.13.3\") # replace the version by the version you want\n",
    "current_version = version.parse(openai.__version__)\n",
    "\n",
    "if current_version < required_version:\n",
    "    raise ValueError(f\"Error: OpenAI version {openai.__version__}\"\n",
    "                     \" is less than the required version 1.1.1\")\n",
    "else:\n",
    "    print(\"OpenAI version is compatible.\")\n",
    "\n",
    "# -- Now we can get to it\n",
    "from openai import OpenAI\n",
    "\n",
    "print('OPENAI WAS GREAT AGAIN')"
   ]
  },
  {
   "cell_type": "code",
   "execution_count": 11,
   "id": "c87bcb79-8a93-49d3-967b-abcc1d47ff57",
   "metadata": {},
   "outputs": [
    {
     "name": "stdout",
     "output_type": "stream",
     "text": [
      "1.13.3\n"
     ]
    }
   ],
   "source": [
    "import openai\n",
    "print(openai.VERSION)"
   ]
  },
  {
   "cell_type": "code",
   "execution_count": 12,
   "id": "3fcea1e8-0c42-4d37-a624-6789c8ac93b1",
   "metadata": {},
   "outputs": [],
   "source": [
    "from openai import OpenAI\n",
    "client = OpenAI(\n",
    "  api_key=os.environ['OPENAI_API_KEY'],  # this is also the default, it can be omitted\n",
    ")"
   ]
  },
  {
   "cell_type": "code",
   "execution_count": 38,
   "id": "6dc0614d-0571-4ded-b911-537f29a0fbf1",
   "metadata": {},
   "outputs": [
    {
     "name": "stdout",
     "output_type": "stream",
     "text": [
      "Training file id: file-NbDzE6NwNKh714sEqYT1ZsA2\n",
      "Validation file id: file-kJ7dc6UkL2fbdexPwPV285JS\n"
     ]
    }
   ],
   "source": [
    "training_file = client.files.create(\n",
    "    file=open(training_file_name, \"rb\"), purpose=\"fine-tune\"\n",
    ")\n",
    "validation_file = client.files.create(\n",
    "    file=open(validation_file_name, \"rb\"), purpose=\"fine-tune\"\n",
    ")\n",
    "\n",
    "print(\"Training file id:\", training_file.id)\n",
    "print(\"Validation file id:\", validation_file.id)"
   ]
  },
  {
   "cell_type": "code",
   "execution_count": 39,
   "id": "4f7f6165-0099-4bc9-81e9-22c81bf06913",
   "metadata": {},
   "outputs": [],
   "source": [
    "#from openai import OpenAI\n",
    "#client = OpenAI()\n",
    " #client.files.create(file=open('data/train.jsonl', \"rb\"), purpose=\"fine-tune\")\n",
    "#client.files.create(\n",
    " # file=open(\"C:/Users/anabe/Documents/PRUEBAS/OPENAI/DEPRESION/train.jsonl\", \"rb\"),\n",
    " # purpose=\"fine-tune\"\n",
    "#)"
   ]
  },
  {
   "cell_type": "code",
   "execution_count": 40,
   "id": "83ba08ce-e41a-44dc-a7e2-6215998bf7dd",
   "metadata": {},
   "outputs": [
    {
     "data": {
      "text/plain": [
       "FineTuningJob(id='ftjob-F03Xcq1cI2kGuEleqa34kdIY', created_at=1729442605, error=Error(code=None, message=None, param=None), fine_tuned_model=None, finished_at=None, hyperparameters=Hyperparameters(n_epochs=3, batch_size='auto', learning_rate_multiplier='auto'), model='gpt-4o-mini-2024-07-18', object='fine_tuning.job', organization_id='org-fmYIRHxHTOs4FIil8mL5yGRD', result_files=[], status='validating_files', trained_tokens=None, training_file='file-NbDzE6NwNKh714sEqYT1ZsA2', validation_file='file-kJ7dc6UkL2fbdexPwPV285JS', user_provided_suffix='upm', seed=183837913, estimated_finish=None, integrations=[])"
      ]
     },
     "execution_count": 40,
     "metadata": {},
     "output_type": "execute_result"
    }
   ],
   "source": [
    "suffix_name = \"upm\"\n",
    "\n",
    "response = client.fine_tuning.jobs.create(\n",
    "    training_file=training_file.id,\n",
    "    validation_file=validation_file.id,\n",
    "    model=\"gpt-4o-mini-2024-07-18\",\n",
    "    suffix=suffix_name,\n",
    "    hyperparameters={\n",
    "    \"n_epochs\":3}\n",
    ")\n",
    "response"
   ]
  },
  {
   "cell_type": "markdown",
   "id": "94ac1113-0a53-4cea-b855-6be7db3126d3",
   "metadata": {},
   "source": [
    "https://github.com/PradipNichite/Youtube-Tutorials/blob/main/GPT3.5%20Finetuning/GPT_3_5_Finetuning_Tutorial.ipynb"
   ]
  },
  {
   "cell_type": "code",
   "execution_count": 41,
   "id": "3d5776e7-83a5-4118-876d-65bc4ff50264",
   "metadata": {},
   "outputs": [
    {
     "data": {
      "text/plain": [
       "SyncCursorPage[FineTuningJob](data=[FineTuningJob(id='ftjob-F03Xcq1cI2kGuEleqa34kdIY', created_at=1729442605, error=Error(code=None, message=None, param=None), fine_tuned_model=None, finished_at=None, hyperparameters=Hyperparameters(n_epochs=3, batch_size='auto', learning_rate_multiplier='auto'), model='gpt-4o-mini-2024-07-18', object='fine_tuning.job', organization_id='org-fmYIRHxHTOs4FIil8mL5yGRD', result_files=[], status='validating_files', trained_tokens=None, training_file='file-NbDzE6NwNKh714sEqYT1ZsA2', validation_file='file-kJ7dc6UkL2fbdexPwPV285JS', user_provided_suffix='upm', seed=183837913, estimated_finish=None, integrations=[])], object='list', has_more=True)"
      ]
     },
     "execution_count": 41,
     "metadata": {},
     "output_type": "execute_result"
    }
   ],
   "source": [
    "client.fine_tuning.jobs.list(limit=1)"
   ]
  },
  {
   "cell_type": "code",
   "execution_count": 42,
   "id": "d88d99d1-87b5-4719-8c5d-b4ebb3e08b76",
   "metadata": {},
   "outputs": [
    {
     "data": {
      "text/plain": [
       "FineTuningJob(id='ftjob-F03Xcq1cI2kGuEleqa34kdIY', created_at=1729442605, error=Error(code=None, message=None, param=None), fine_tuned_model=None, finished_at=None, hyperparameters=Hyperparameters(n_epochs=3, batch_size='auto', learning_rate_multiplier='auto'), model='gpt-4o-mini-2024-07-18', object='fine_tuning.job', organization_id='org-fmYIRHxHTOs4FIil8mL5yGRD', result_files=[], status='validating_files', trained_tokens=None, training_file='file-NbDzE6NwNKh714sEqYT1ZsA2', validation_file='file-kJ7dc6UkL2fbdexPwPV285JS', user_provided_suffix='upm', seed=183837913, estimated_finish=None, integrations=[])"
      ]
     },
     "execution_count": 42,
     "metadata": {},
     "output_type": "execute_result"
    }
   ],
   "source": [
    "response = client.fine_tuning.jobs.retrieve(\"ftjob-F03Xcq1cI2kGuEleqa34kdIY\")\n",
    "response\n",
    "     "
   ]
  },
  {
   "cell_type": "code",
   "execution_count": 44,
   "id": "960258a3-0049-496f-b4ac-35018104e23b",
   "metadata": {},
   "outputs": [
    {
     "name": "stdout",
     "output_type": "stream",
     "text": [
      "\n",
      "Fine-tuned model id: None\n"
     ]
    }
   ],
   "source": [
    "fine_tuned_model_id = response.fine_tuned_model\n",
    "print(\"\\nFine-tuned model id:\", fine_tuned_model_id)"
   ]
  },
  {
   "cell_type": "code",
   "execution_count": 1,
   "id": "e175fc76-7471-4ec2-b873-a4cc64c05c56",
   "metadata": {},
   "outputs": [],
   "source": [
    "fine_tuned_model_id='ft:gpt-4o-mini-2024-07-18:espe:upm:AKU63gok'"
   ]
  },
  {
   "cell_type": "markdown",
   "id": "56a8626d-4ef1-4fcf-a71e-fc1e059727d4",
   "metadata": {},
   "source": [
    "https://www.youtube.com/watch?v=YioMpE2jGIU"
   ]
  },
  {
   "cell_type": "markdown",
   "id": "c765690c-e7f9-4626-98cb-757835020e80",
   "metadata": {},
   "source": [
    "### TEST"
   ]
  },
  {
   "cell_type": "code",
   "execution_count": 2,
   "id": "0e9fb352-4eec-4d6a-b439-f51ced42b225",
   "metadata": {},
   "outputs": [],
   "source": [
    "from sklearn.metrics import accuracy_score, precision_score, recall_score, f1_score\n",
    "\n",
    "def format_test(row):\n",
    "\n",
    "    formatted_message = [\n",
    "        {\n",
    "            \"role\": \"user\",\n",
    "            \"content\": row['text']\n",
    "        }\n",
    "    ]\n",
    "    return formatted_message\n",
    "\n",
    "\n",
    "def predict(test_messages, fine_tuned_model_id):\n",
    "\n",
    "    response = client.chat.completions.create(\n",
    "        model=fine_tuned_model_id, messages=test_messages, temperature=0, max_tokens=50\n",
    "    )\n",
    "\n",
    "    return response.choices[0].message.content\n",
    "     "
   ]
  },
  {
   "cell_type": "code",
   "execution_count": 3,
   "id": "769f9453-8bdd-446a-a8bb-c9a4cc7c742a",
   "metadata": {},
   "outputs": [],
   "source": [
    "def store_predictions(test_df, fine_tuned_model_id):\n",
    "\n",
    "    print(\"fine_tuned_model_id\",fine_tuned_model_id)\n",
    "    test_df['Prediction'] = None\n",
    "\n",
    "    for index, row in test_df.iterrows():\n",
    "        test_message = format_test(row)\n",
    "        prediction_result = predict(test_message, fine_tuned_model_id)\n",
    "        test_df.at[index, 'Prediction'] = prediction_result\n",
    "\n",
    "        test_df.to_csv(\"C:/Users/anabe/Documents/PRUEBAS/OPENAI/DEPRESION/predictions4.csv\")"
   ]
  },
  {
   "cell_type": "code",
   "execution_count": 13,
   "id": "1a570d59-55a3-4bea-b75e-c795fc8511f1",
   "metadata": {},
   "outputs": [
    {
     "name": "stdout",
     "output_type": "stream",
     "text": [
      "fine_tuned_model_id ft:gpt-4o-mini-2024-07-18:espe:upm:AKU63gok\n"
     ]
    }
   ],
   "source": [
    "test_df = pd.read_csv(\"test4.csv\")\n",
    "store_predictions(test_df, fine_tuned_model_id)"
   ]
  },
  {
   "cell_type": "markdown",
   "id": "abcff250-2ccf-4e78-8419-6a72f4eb219b",
   "metadata": {},
   "source": [
    "https://scale.com/blog/fine-tune-gpt-3.5"
   ]
  },
  {
   "cell_type": "code",
   "execution_count": null,
   "id": "f6e7487c-f8ca-426c-9844-0c12d1090b4a",
   "metadata": {},
   "outputs": [],
   "source": [
    "#pip install evals"
   ]
  },
  {
   "cell_type": "code",
   "execution_count": 5,
   "id": "9411e20e-c122-4a14-90c6-60d6124ed816",
   "metadata": {},
   "outputs": [],
   "source": [
    "#!oaieval gpt-3.5-turbo test-sentiment-stu"
   ]
  },
  {
   "cell_type": "code",
   "execution_count": 14,
   "id": "fb0e21e3-d3cc-45a6-b530-0ea18cfbb933",
   "metadata": {},
   "outputs": [],
   "source": [
    "import pandas as pd\n",
    "from sklearn.metrics import accuracy_score, precision_score, recall_score, f1_score\n",
    "import matplotlib.pyplot as plt\n",
    "import os"
   ]
  },
  {
   "cell_type": "code",
   "execution_count": 15,
   "id": "0f8c54ca-0da4-4aaa-98a2-8d03389d6d58",
   "metadata": {},
   "outputs": [],
   "source": [
    "data = pd.read_csv('C:/Users/anabe/Documents/PRUEBAS/OPENAI/DEPRESION/predictions4.csv')"
   ]
  },
  {
   "cell_type": "code",
   "execution_count": 16,
   "id": "e8c6f1e1-51e5-42fb-8cdf-99e0f751ad48",
   "metadata": {},
   "outputs": [
    {
     "data": {
      "text/plain": [
       "Unnamed: 0     int64\n",
       "text          object\n",
       "label          int64\n",
       "Prediction    object\n",
       "dtype: object"
      ]
     },
     "execution_count": 16,
     "metadata": {},
     "output_type": "execute_result"
    }
   ],
   "source": [
    "data.dtypes"
   ]
  },
  {
   "cell_type": "code",
   "execution_count": 17,
   "id": "bafc5343-f6aa-41a3-861d-c9b44326f642",
   "metadata": {},
   "outputs": [
    {
     "data": {
      "text/html": [
       "<div>\n",
       "<style scoped>\n",
       "    .dataframe tbody tr th:only-of-type {\n",
       "        vertical-align: middle;\n",
       "    }\n",
       "\n",
       "    .dataframe tbody tr th {\n",
       "        vertical-align: top;\n",
       "    }\n",
       "\n",
       "    .dataframe thead th {\n",
       "        text-align: right;\n",
       "    }\n",
       "</style>\n",
       "<table border=\"1\" class=\"dataframe\">\n",
       "  <thead>\n",
       "    <tr style=\"text-align: right;\">\n",
       "      <th></th>\n",
       "      <th>Unnamed: 0</th>\n",
       "      <th>text</th>\n",
       "      <th>label</th>\n",
       "      <th>Prediction</th>\n",
       "    </tr>\n",
       "  </thead>\n",
       "  <tbody>\n",
       "    <tr>\n",
       "      <th>0</th>\n",
       "      <td>0</td>\n",
       "      <td>Long-term suffering. It's been two years eh..P...</td>\n",
       "      <td>0</td>\n",
       "      <td>{\"label\": \"0\"}</td>\n",
       "    </tr>\n",
       "    <tr>\n",
       "      <th>1</th>\n",
       "      <td>1</td>\n",
       "      <td>Who is still in class today? Yes, me. ”âœ‹</td>\n",
       "      <td>0</td>\n",
       "      <td>{\"label\": \"0\"}</td>\n",
       "    </tr>\n",
       "    <tr>\n",
       "      <th>2</th>\n",
       "      <td>2</td>\n",
       "      <td>online / holiday?</td>\n",
       "      <td>0</td>\n",
       "      <td>{\"label\": \"0\"}</td>\n",
       "    </tr>\n",
       "    <tr>\n",
       "      <th>3</th>\n",
       "      <td>3</td>\n",
       "      <td>Even when I was on school leave, I didn't ask,...</td>\n",
       "      <td>0</td>\n",
       "      <td>{\"label\": \"0\"}</td>\n",
       "    </tr>\n",
       "    <tr>\n",
       "      <th>4</th>\n",
       "      <td>4</td>\n",
       "      <td>Yeayy tomorrow is a day off from work</td>\n",
       "      <td>0</td>\n",
       "      <td>{\"label\": \"0\"}</td>\n",
       "    </tr>\n",
       "    <tr>\n",
       "      <th>...</th>\n",
       "      <td>...</td>\n",
       "      <td>...</td>\n",
       "      <td>...</td>\n",
       "      <td>...</td>\n",
       "    </tr>\n",
       "    <tr>\n",
       "      <th>1491</th>\n",
       "      <td>1491</td>\n",
       "      <td>I'm always depressed</td>\n",
       "      <td>1</td>\n",
       "      <td>{\"label\": \"1\"}</td>\n",
       "    </tr>\n",
       "    <tr>\n",
       "      <th>1492</th>\n",
       "      <td>1492</td>\n",
       "      <td>Don't make decisions when you're not fit, let ...</td>\n",
       "      <td>1</td>\n",
       "      <td>{\"label\": \"1\"}</td>\n",
       "    </tr>\n",
       "    <tr>\n",
       "      <th>1493</th>\n",
       "      <td>1493</td>\n",
       "      <td>Hot plus cool = sore throat, want to poop</td>\n",
       "      <td>0</td>\n",
       "      <td>{\"label\": \"0\"}</td>\n",
       "    </tr>\n",
       "    <tr>\n",
       "      <th>1494</th>\n",
       "      <td>1494</td>\n",
       "      <td>good morning worldðŸ˜»</td>\n",
       "      <td>0</td>\n",
       "      <td>{\"label\": \"0\"}</td>\n",
       "    </tr>\n",
       "    <tr>\n",
       "      <th>1495</th>\n",
       "      <td>1495</td>\n",
       "      <td>I'm so bored of the tv in the office, just set...</td>\n",
       "      <td>0</td>\n",
       "      <td>{\"label\": \"0\"}</td>\n",
       "    </tr>\n",
       "  </tbody>\n",
       "</table>\n",
       "<p>1496 rows × 4 columns</p>\n",
       "</div>"
      ],
      "text/plain": [
       "      Unnamed: 0                                               text  label  \\\n",
       "0              0  Long-term suffering. It's been two years eh..P...      0   \n",
       "1              1         Who is still in class today? Yes, me. ”âœ‹      0   \n",
       "2              2                                  online / holiday?      0   \n",
       "3              3  Even when I was on school leave, I didn't ask,...      0   \n",
       "4              4              Yeayy tomorrow is a day off from work      0   \n",
       "...          ...                                                ...    ...   \n",
       "1491        1491                               I'm always depressed      1   \n",
       "1492        1492  Don't make decisions when you're not fit, let ...      1   \n",
       "1493        1493          Hot plus cool = sore throat, want to poop      0   \n",
       "1494        1494                             good morning worldðŸ˜»      0   \n",
       "1495        1495  I'm so bored of the tv in the office, just set...      0   \n",
       "\n",
       "          Prediction  \n",
       "0     {\"label\": \"0\"}  \n",
       "1     {\"label\": \"0\"}  \n",
       "2     {\"label\": \"0\"}  \n",
       "3     {\"label\": \"0\"}  \n",
       "4     {\"label\": \"0\"}  \n",
       "...              ...  \n",
       "1491  {\"label\": \"1\"}  \n",
       "1492  {\"label\": \"1\"}  \n",
       "1493  {\"label\": \"0\"}  \n",
       "1494  {\"label\": \"0\"}  \n",
       "1495  {\"label\": \"0\"}  \n",
       "\n",
       "[1496 rows x 4 columns]"
      ]
     },
     "execution_count": 17,
     "metadata": {},
     "output_type": "execute_result"
    }
   ],
   "source": [
    "data"
   ]
  },
  {
   "cell_type": "code",
   "execution_count": 18,
   "id": "a76fe120-4cc9-4b6a-881f-c55f65278a6b",
   "metadata": {},
   "outputs": [
    {
     "name": "stdout",
     "output_type": "stream",
     "text": [
      "0       {\"label\": \"0\"}\n",
      "1       {\"label\": \"0\"}\n",
      "2       {\"label\": \"0\"}\n",
      "3       {\"label\": \"0\"}\n",
      "4       {\"label\": \"0\"}\n",
      "             ...      \n",
      "1491    {\"label\": \"1\"}\n",
      "1492    {\"label\": \"1\"}\n",
      "1493    {\"label\": \"0\"}\n",
      "1494    {\"label\": \"0\"}\n",
      "1495    {\"label\": \"0\"}\n",
      "Name: Prediction, Length: 1496, dtype: object\n"
     ]
    }
   ],
   "source": [
    "print(data['Prediction'])"
   ]
  },
  {
   "cell_type": "code",
   "execution_count": 19,
   "id": "9a5eb8e5-7fb8-4da9-9223-ff0e7ac18c0e",
   "metadata": {},
   "outputs": [
    {
     "data": {
      "text/html": [
       "<div>\n",
       "<style scoped>\n",
       "    .dataframe tbody tr th:only-of-type {\n",
       "        vertical-align: middle;\n",
       "    }\n",
       "\n",
       "    .dataframe tbody tr th {\n",
       "        vertical-align: top;\n",
       "    }\n",
       "\n",
       "    .dataframe thead th {\n",
       "        text-align: right;\n",
       "    }\n",
       "</style>\n",
       "<table border=\"1\" class=\"dataframe\">\n",
       "  <thead>\n",
       "    <tr style=\"text-align: right;\">\n",
       "      <th></th>\n",
       "      <th>Unnamed: 0</th>\n",
       "      <th>text</th>\n",
       "      <th>label</th>\n",
       "      <th>Prediction</th>\n",
       "      <th>labelx</th>\n",
       "    </tr>\n",
       "  </thead>\n",
       "  <tbody>\n",
       "    <tr>\n",
       "      <th>0</th>\n",
       "      <td>0</td>\n",
       "      <td>Long-term suffering. It's been two years eh..P...</td>\n",
       "      <td>0</td>\n",
       "      <td>{'label': '0'}</td>\n",
       "      <td>0</td>\n",
       "    </tr>\n",
       "    <tr>\n",
       "      <th>1</th>\n",
       "      <td>1</td>\n",
       "      <td>Who is still in class today? Yes, me. ”âœ‹</td>\n",
       "      <td>0</td>\n",
       "      <td>{'label': '0'}</td>\n",
       "      <td>0</td>\n",
       "    </tr>\n",
       "    <tr>\n",
       "      <th>2</th>\n",
       "      <td>2</td>\n",
       "      <td>online / holiday?</td>\n",
       "      <td>0</td>\n",
       "      <td>{'label': '0'}</td>\n",
       "      <td>0</td>\n",
       "    </tr>\n",
       "    <tr>\n",
       "      <th>3</th>\n",
       "      <td>3</td>\n",
       "      <td>Even when I was on school leave, I didn't ask,...</td>\n",
       "      <td>0</td>\n",
       "      <td>{'label': '0'}</td>\n",
       "      <td>0</td>\n",
       "    </tr>\n",
       "    <tr>\n",
       "      <th>4</th>\n",
       "      <td>4</td>\n",
       "      <td>Yeayy tomorrow is a day off from work</td>\n",
       "      <td>0</td>\n",
       "      <td>{'label': '0'}</td>\n",
       "      <td>0</td>\n",
       "    </tr>\n",
       "    <tr>\n",
       "      <th>...</th>\n",
       "      <td>...</td>\n",
       "      <td>...</td>\n",
       "      <td>...</td>\n",
       "      <td>...</td>\n",
       "      <td>...</td>\n",
       "    </tr>\n",
       "    <tr>\n",
       "      <th>1491</th>\n",
       "      <td>1491</td>\n",
       "      <td>I'm always depressed</td>\n",
       "      <td>1</td>\n",
       "      <td>{'label': '1'}</td>\n",
       "      <td>1</td>\n",
       "    </tr>\n",
       "    <tr>\n",
       "      <th>1492</th>\n",
       "      <td>1492</td>\n",
       "      <td>Don't make decisions when you're not fit, let ...</td>\n",
       "      <td>1</td>\n",
       "      <td>{'label': '1'}</td>\n",
       "      <td>1</td>\n",
       "    </tr>\n",
       "    <tr>\n",
       "      <th>1493</th>\n",
       "      <td>1493</td>\n",
       "      <td>Hot plus cool = sore throat, want to poop</td>\n",
       "      <td>0</td>\n",
       "      <td>{'label': '0'}</td>\n",
       "      <td>0</td>\n",
       "    </tr>\n",
       "    <tr>\n",
       "      <th>1494</th>\n",
       "      <td>1494</td>\n",
       "      <td>good morning worldðŸ˜»</td>\n",
       "      <td>0</td>\n",
       "      <td>{'label': '0'}</td>\n",
       "      <td>0</td>\n",
       "    </tr>\n",
       "    <tr>\n",
       "      <th>1495</th>\n",
       "      <td>1495</td>\n",
       "      <td>I'm so bored of the tv in the office, just set...</td>\n",
       "      <td>0</td>\n",
       "      <td>{'label': '0'}</td>\n",
       "      <td>0</td>\n",
       "    </tr>\n",
       "  </tbody>\n",
       "</table>\n",
       "<p>1496 rows × 5 columns</p>\n",
       "</div>"
      ],
      "text/plain": [
       "      Unnamed: 0                                               text  label  \\\n",
       "0              0  Long-term suffering. It's been two years eh..P...      0   \n",
       "1              1         Who is still in class today? Yes, me. ”âœ‹      0   \n",
       "2              2                                  online / holiday?      0   \n",
       "3              3  Even when I was on school leave, I didn't ask,...      0   \n",
       "4              4              Yeayy tomorrow is a day off from work      0   \n",
       "...          ...                                                ...    ...   \n",
       "1491        1491                               I'm always depressed      1   \n",
       "1492        1492  Don't make decisions when you're not fit, let ...      1   \n",
       "1493        1493          Hot plus cool = sore throat, want to poop      0   \n",
       "1494        1494                             good morning worldðŸ˜»      0   \n",
       "1495        1495  I'm so bored of the tv in the office, just set...      0   \n",
       "\n",
       "          Prediction labelx  \n",
       "0     {'label': '0'}      0  \n",
       "1     {'label': '0'}      0  \n",
       "2     {'label': '0'}      0  \n",
       "3     {'label': '0'}      0  \n",
       "4     {'label': '0'}      0  \n",
       "...              ...    ...  \n",
       "1491  {'label': '1'}      1  \n",
       "1492  {'label': '1'}      1  \n",
       "1493  {'label': '0'}      0  \n",
       "1494  {'label': '0'}      0  \n",
       "1495  {'label': '0'}      0  \n",
       "\n",
       "[1496 rows x 5 columns]"
      ]
     },
     "execution_count": 19,
     "metadata": {},
     "output_type": "execute_result"
    }
   ],
   "source": [
    "import pandas as pd\n",
    "from ast import literal_eval\n",
    "\n",
    "df = pd.read_csv('C:/Users/anabe/Documents/PRUEBAS/OPENAI/DEPRESION/predictions4.csv', converters={'Prediction': literal_eval})\n",
    "df['labelx'] = df['Prediction'].apply(pd.Series)\n",
    "df\n"
   ]
  },
  {
   "cell_type": "code",
   "execution_count": 20,
   "id": "e2681967-9c67-4736-bb2c-c28049560bc9",
   "metadata": {},
   "outputs": [
    {
     "data": {
      "text/plain": [
       "Unnamed: 0     int64\n",
       "text          object\n",
       "label          int64\n",
       "Prediction    object\n",
       "labelx         int64\n",
       "dtype: object"
      ]
     },
     "execution_count": 20,
     "metadata": {},
     "output_type": "execute_result"
    }
   ],
   "source": [
    "df['labelx'] = df['labelx'].astype('int64')\n",
    "df.dtypes"
   ]
  },
  {
   "cell_type": "code",
   "execution_count": 21,
   "id": "514e63ff-fb95-4fce-84ca-b8d3c54e124b",
   "metadata": {},
   "outputs": [],
   "source": [
    "df.to_csv(\"C:/Users/anabe/Documents/PRUEBAS/OPENAI/DEPRESION/predictions-final4.csv\")"
   ]
  },
  {
   "cell_type": "code",
   "execution_count": 22,
   "id": "dd5d38fa-2dd0-46d4-b942-9cc16fa375df",
   "metadata": {},
   "outputs": [],
   "source": [
    "import pandas as pd\n",
    "import pandas as pd\n",
    "from sklearn.metrics import accuracy_score, precision_score, recall_score, f1_score\n",
    "import matplotlib.pyplot as plt\n",
    "import os\n",
    "def evaluate_results(original, prediction, model_name):\n",
    "    data = pd.read_csv('C:/Users/anabe/Documents/PRUEBAS/OPENAI/DEPRESION/predictions-final4.csv')\n",
    "    accuracy = round(accuracy_score(data[original], data[prediction]), 4)\n",
    "    precision = round(precision_score(data[original], data[prediction], average='weighted'), 4)\n",
    "    recall = round(recall_score(data[original], data[prediction], average='weighted'), 4)\n",
    "    f1 = round(f1_score(data[original], data[prediction], average='weighted'), 4)\n",
    "\n",
    "    # Create a DataFrame with the evaluation results including the 'model' column\n",
    "    evaluation_df = pd.DataFrame({\n",
    "        'Model': [model_name],\n",
    "        'Accuracy': [accuracy],\n",
    "        'Precision': [precision],\n",
    "        'Recall': [recall],\n",
    "        'F1': [f1]\n",
    "    })\n",
    "\n",
    "    # Append the results to the existing CSV file or create a new one\n",
    "    evaluation_df.to_csv('C:/Users/anabe/Documents/PRUEBAS/OPENAI/DEPRESION/evaluation-results4.csv', mode='a', header=not os.path.exists('C:/Users/anabe/Documents/PRUEBAS/OPENAI/DEPRESION/evaluation-results4.csv'), index=False)\n",
    "\n",
    "    return {'Model': model_name, 'Accuracy': accuracy, 'Precision': precision, 'Recall': recall, 'F1': f1}"
   ]
  },
  {
   "cell_type": "code",
   "execution_count": 23,
   "id": "51130a05-66ae-46d5-8903-3d50018086e2",
   "metadata": {},
   "outputs": [
    {
     "name": "stdout",
     "output_type": "stream",
     "text": [
      "base:gpt-4o-mini: {'Model': 'base:gpt-4o-mini', 'Accuracy': 0.9893, 'Precision': 0.9896, 'Recall': 0.9893, 'F1': 0.9894}\n"
     ]
    }
   ],
   "source": [
    "print(f'base:gpt-4o-mini: ' + str(evaluate_results('label', 'labelx', 'base:gpt-4o-mini')))"
   ]
  },
  {
   "cell_type": "markdown",
   "id": "4f1db0a8-b2e9-4614-b79e-81a6147372b5",
   "metadata": {},
   "source": [
    "https://arize.com/blog-course/precision-vs-recall/"
   ]
  }
 ],
 "metadata": {
  "kernelspec": {
   "display_name": "Python 3 (ipykernel)",
   "language": "python",
   "name": "python3"
  },
  "language_info": {
   "codemirror_mode": {
    "name": "ipython",
    "version": 3
   },
   "file_extension": ".py",
   "mimetype": "text/x-python",
   "name": "python",
   "nbconvert_exporter": "python",
   "pygments_lexer": "ipython3",
   "version": "3.11.7"
  }
 },
 "nbformat": 4,
 "nbformat_minor": 5
}
